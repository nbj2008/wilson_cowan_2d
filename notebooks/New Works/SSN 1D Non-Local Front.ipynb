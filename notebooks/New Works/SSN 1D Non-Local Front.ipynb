{
 "cells": [
  {
   "cell_type": "code",
   "execution_count": 2,
   "id": "f0447a56-da29-408c-a863-f3bdbe1066a0",
   "metadata": {
    "tags": []
   },
   "outputs": [],
   "source": [
    "import numpy as np\n",
    "from matplotlib import pyplot as plt\n",
    "import scipy.optimize as opt\n",
    "import scipy.signal as sig\n",
    "import scipy.integrate as sciint\n",
    "from functools import partial\n",
    "import os\n",
    "\n",
    "# Mine\n",
    "from wilson_cowan_2d.simulations import concrete_wc_kernel as wck\n",
    "from wilson_cowan_2d.simulations import wc_params as wcp\n",
    "from wilson_cowan_2d.simulations.nonlinear_functions import decreasing_exponential\n",
    "from wilson_cowan_2d.analysis.nulclines import calc_cross_points, calc_nulclines_crosspoints\n",
    "\n",
    "%load_ext autoreload\n",
    "%autoreload 2"
   ]
  },
  {
   "cell_type": "code",
   "execution_count": 3,
   "id": "e3b6b576-86f1-4691-9f9e-713ce36ff9e4",
   "metadata": {
    "tags": []
   },
   "outputs": [],
   "source": [
    "report_path = \"/home/nicolasjudd/school_notes/neural/final_report/\"\n",
    "img_path = os.path.join(report_path, 'img')"
   ]
  },
  {
   "cell_type": "code",
   "execution_count": null,
   "id": "2ab645a4-6e5c-46a5-909d-59ab81e19b05",
   "metadata": {
    "tags": []
   },
   "outputs": [],
   "source": [
    "τ = 3.5\n",
    "τe = 1\n",
    "τi = τ * τe\n",
    "\n",
    "σ = 0.1\n",
    "σe = 1\n",
    "σi = σ* σe\n",
    "\n",
    "param = wcp.SSNDefaultParams(τ = np.array([τe, τi]), n=3, k=1, size = 2**9, σ=np.array([σe,σi]))\n",
    "# param.Θ = np.array([0.08, 0.4])\n",
    "\n",
    "u,v,cps = calc_nulclines_crosspoints(param, interp_prec=1e-5,\n",
    "                                     fit_points=1_000,t_rang=(-100, 100))\n",
    "_ = plt.plot(*u)\n",
    "_ = plt.plot(*v)\n",
    "_ = plt.scatter(*cps, c='r')\n",
    "# _ = plt.xlim(0, 2)\n",
    "# _ = plt.ylim(0, 2)\n",
    "print(cps)\n",
    "\n",
    "u_str = cps[0,1]\n",
    "v_str = cps[1,1]\n",
    "\n",
    "u_str = 0\n",
    "v_str = 0\n",
    "\n",
    "u = u_str*np.ones(param.size).reshape((param.size,1))\n",
    "v = v_str*np.ones(param.size).reshape((param.size, 1))\n",
    "\n",
    "ii = 128\n",
    "u[ii:ii+2**0] = 1\n",
    "# v[0:2**1] = 1\n",
    "\n",
    "#  inp = (u3, v3, u3, 0)\n",
    "\n",
    "inp = (u, v)"
   ]
  },
  {
   "cell_type": "code",
   "execution_count": null,
   "id": "93f4c155-b9c6-4b39-8659-7636c5c2e97e",
   "metadata": {
    "tags": []
   },
   "outputs": [],
   "source": [
    "trv_wav = wck.WCDecExpTravelNonLocal1D(inp, param)\n",
    "\n",
    "end = 60\n",
    "step = end/(param.size)\n",
    "res = trv_wav((0, end), t_eval=np.arange(0, end, step))\n",
    "\n",
    "print(res._solved.message)\n",
    "\n",
    "\n",
    "fig = plt.figure(figsize=(16,4))\n",
    "_ = plt.imshow(res.u.T, vmin=0, vmax=1)\n"
   ]
  },
  {
   "cell_type": "code",
   "execution_count": null,
   "id": "6035f90e-82bd-45d2-83b5-0000b8f985b6",
   "metadata": {
    "tags": []
   },
   "outputs": [],
   "source": [
    "_ = plt.plot(res.t, res.u[:, 300])"
   ]
  },
  {
   "cell_type": "code",
   "execution_count": null,
   "id": "51010910-e6da-4cfd-87e7-0f87fc489857",
   "metadata": {},
   "outputs": [],
   "source": []
  }
 ],
 "metadata": {
  "kernelspec": {
   "display_name": "Python 3 (ipykernel)",
   "language": "python",
   "name": "python3"
  },
  "language_info": {
   "codemirror_mode": {
    "name": "ipython",
    "version": 3
   },
   "file_extension": ".py",
   "mimetype": "text/x-python",
   "name": "python",
   "nbconvert_exporter": "python",
   "pygments_lexer": "ipython3",
   "version": "3.10.6"
  }
 },
 "nbformat": 4,
 "nbformat_minor": 5
}
