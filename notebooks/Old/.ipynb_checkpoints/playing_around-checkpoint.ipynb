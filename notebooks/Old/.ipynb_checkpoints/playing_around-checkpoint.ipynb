{
 "cells": [
  {
   "cell_type": "code",
   "execution_count": 147,
   "id": "582cebdb-dcb7-45cf-bf4b-9b482d950ca1",
   "metadata": {
    "tags": []
   },
   "outputs": [],
   "source": [
    "from scipy import optimize as opt\n",
    "from scipy import integrate as scint\n",
    "from scipy import linalg as la\n",
    "from scipy import signal as sps\n",
    "\n",
    "import numpy as np\n",
    "\n",
    "from itertools import product\n",
    "from functools import partial\n",
    "\n",
    "#Plotting\n",
    "from matplotlib import pyplot as plt\n",
    "from matplotlib.animation import FuncAnimation\n",
    "from array2gif import write_gif\n",
    "import animatplot as ani\n",
    "\n",
    "# Jax\n",
    "import jax\n",
    "from jax import numpy as jnp\n",
    "\n",
    "#Class Niceities\n",
    "from dataclasses import dataclass\n",
    "from abc import ABC, abstractproperty\n",
    "\n",
    "#Typing\n",
    "from typing import Any, Tuple, List, Callable\n",
    "\n",
    "#Display\n",
    "from IPython.display import clear_output\n",
    "from IPython.display import HTML\n",
    "from time import sleep\n",
    "\n"
   ]
  },
  {
   "cell_type": "markdown",
   "id": "d066839d-7b44-4a0c-b38c-851863753bd3",
   "metadata": {
    "tags": []
   },
   "source": [
    "Want to model this to start\n",
    "\n",
    "$ \\tau_e \\frac{\\partial u}{\\partial t} (x,t) = -u(x,t) + F(a_{ee}K_e(x) \\star u(x,t) - a_{ei}K_i(x) \\star v(x,t) - \\Theta_e) $\n",
    "\n",
    "$ \\tau_i \\frac{\\partial v}{\\partial t} (x,t) = -u(x,t) + F(a_{ie}K_e(x) \\star u(x,t) - a_{ii}K_i(x) \\star v(x,t) - \\Theta_i) $\n",
    "\n",
    "$K_e(x) = \\frac{1}{2\\sigma_e} \\exp{\\left(-\\frac{|x|}{\\sigma_e}\\right)}$\n",
    "\n",
    "$K_i(x) = \\frac{1}{2\\sigma_i} \\exp{\\left(-\\frac{|x|}{\\sigma_i}\\right)}$\n",
    "\n",
    "$K_j(x)\\star m(x) = \\int_D K(x-y) m(y) dy$\n",
    "\n",
    "$F(I) = \\frac{1}{1 + \\exp{\\left(-\\beta I\\right)}}$\n",
    "\n",
    "$\\beta = 50$\n",
    "\n",
    "$a_{ee}=a_{ie}=1$\n",
    "$a_{ei}=1.5$\n",
    "$a_{ii}=0.25$\n",
    "\n",
    "$\\Theta_e = 0.125$\n",
    "$\\Theta_i = 0.4$\n",
    "\n",
    "$\\tau_e =1$\n",
    "$\\tau_i = \\tau$"
   ]
  },
  {
   "cell_type": "markdown",
   "id": "50aa5ec3-3cd1-40d8-bb50-bc4defbd9ae7",
   "metadata": {},
   "source": [
    "### Setting Up Basic Wilson-Cowan"
   ]
  },
  {
   "cell_type": "code",
   "execution_count": 148,
   "id": "a48274e2-fa5a-4737-9a87-9baa93039f52",
   "metadata": {
    "tags": []
   },
   "outputs": [],
   "source": [
    "def F(x: np.array, β = 50)->np.array:\n",
    "    return 1/(1 + np.exp(-β * x))"
   ]
  },
  {
   "cell_type": "code",
   "execution_count": 149,
   "id": "71376297-11e5-45a2-b4d6-77f6464c08c4",
   "metadata": {
    "tags": []
   },
   "outputs": [],
   "source": [
    "def derv(w, a, Θ, F, τ):\n",
    "    temp = w*np.array([1,-1])\n",
    "    nonlin = F(a@temp - Θ)\n",
    "    return (nonlin - w)*np.array([1, 1/τ])"
   ]
  },
  {
   "cell_type": "markdown",
   "id": "a87f8bce-86f7-4ba6-96c5-9b7c6cf742ef",
   "metadata": {},
   "source": [
    "### Setting Up Kernel Functions"
   ]
  },
  {
   "cell_type": "code",
   "execution_count": 150,
   "id": "dff58b2e-d5b5-4a1c-b716-0231e1c19ce2",
   "metadata": {
    "tags": []
   },
   "outputs": [],
   "source": [
    "\n",
    "def get_normalized_2d_K(size_params, σ):\n",
    "    norm = np.sum(generate_2d_kernal(partial(K, σ=σ), size_params))\n",
    "    def norm_K(x: np.array, σ):\n",
    "        return 1/norm * K(x, σ)\n",
    "    return norm_K  \n",
    "\n",
    "# def get_normalized_1d_K(size_params, σ):\n",
    "#     norm = np.sum(generate_2d_kernal(partial(K, σ=σ), size_params))\n",
    "#     def norm_K(x: np.array, σ):\n",
    "#         return 1/norm * K(x, σ)\n",
    "#     return norm_K "
   ]
  },
  {
   "cell_type": "code",
   "execution_count": 151,
   "id": "337c8b5c-bbc5-43bf-a95e-4d32ebf4309f",
   "metadata": {
    "tags": []
   },
   "outputs": [],
   "source": [
    "def generate_2d_grid(lo:int, hi: int, size: int)->List[Tuple[int]]:\n",
    "    vals = np.linspace(lo, hi, size)\n",
    "    return product(vals, vals)\n",
    "\n",
    "def generate_nd_grid(lo:int, hi: int, size: int, dim: int)->List[Tuple[int]]:\n",
    "    vals = np.linspace(lo, hi, size)\n",
    "    return product(*[vals for _ in range(dim)])\n",
    "\n",
    "def generate_2d_kernal(K, grid_params: Tuple[int], in_2d: bool = False):\n",
    "    _, _, size = grid_params\n",
    "    ret = np.array([K(la.norm(np.array(y))) for y in generate_2d_grid(*grid_params)])\n",
    "    return ret.reshape(size, size) if in_2d else ret"
   ]
  },
  {
   "cell_type": "code",
   "execution_count": 152,
   "id": "effddd03-02ff-481c-9825-e647da3fb348",
   "metadata": {
    "tags": []
   },
   "outputs": [],
   "source": [
    "def K(x: float, σ):\n",
    "    \"\"\"Computes the kernal for an number, assumes it's been normalized\"\"\"\n",
    "    return 1/(2*σ) * np.exp(-x/σ) \n",
    "\n",
    "def dec_exp_1d_K(size, σ):\n",
    "    acs, dwn = np.mgrid[:size, :size]\n",
    "    return K(np.abs((acs-dwn).reshape(size, size)), σ)\n",
    "\n",
    "def get_normalized_1d_K(size, σ):\n",
    "    kern  = dec_exp_1d_K(size, σ)\n",
    "    return (kern.T*np.power(np.sum(kern, axis=0), -1)).T"
   ]
  },
  {
   "cell_type": "code",
   "execution_count": 153,
   "id": "bb2ed207-46cf-45e6-9803-1b4fac31e29b",
   "metadata": {
    "tags": []
   },
   "outputs": [],
   "source": [
    "def make_2d_dist_grid(size):\n",
    "    x_row = np.concatenate([np.repeat(i,size) for i in range(size)])\n",
    "    y_row = np.concatenate([np.arange(size)]*size)\n",
    "    return la.norm(np.stack([np.stack([y_row-y,x_row-x]) for x,y in product(range(size), range(size))]), axis=1).reshape(size**2,size,size)"
   ]
  },
  {
   "cell_type": "code",
   "execution_count": 154,
   "id": "c11d4795-b8a3-45ac-a9a2-a3b40350ebae",
   "metadata": {
    "tags": []
   },
   "outputs": [],
   "source": [
    "class Dist2DGrid:\n",
    "    def __init__(self, size):\n",
    "        self._size = size\n",
    "        self._grid = make_2d_dist_grid(size)\n",
    "    \n",
    "    def __getitem__(self, key):\n",
    "        \"\"\"Indexer for Grid. 0-> x-axis, 1->y-axis\"\"\"\n",
    "        assert all([k<self.size for k in key]), \"Indexes must be smaller than axis length\"\n",
    "        return self._grid[key[1]*self.size + key[0]]\n",
    "    \n",
    "    @property\n",
    "    def size(self):\n",
    "        return self._size\n",
    "\n",
    "    @property\n",
    "    def shape(self):\n",
    "        return self._grid.shape"
   ]
  },
  {
   "cell_type": "code",
   "execution_count": 155,
   "id": "382fa24e-412c-48c6-bfb4-40bb16a6867a",
   "metadata": {
    "tags": []
   },
   "outputs": [
    {
     "data": {
      "image/png": "[encoded data removed]",
      "text/plain": [
       "<Figure size 640x480 with 1 Axes>"
      ]
     },
     "metadata": {},
     "output_type": "display_data"
    }
   ],
   "source": [
    "kern = partial(K, σ = 100)\n",
    "_ = plt.imshow(generate_2d_kernal(kern, (-100, 100, 200), True))"
   ]
  },
  {
   "cell_type": "markdown",
   "id": "51bd4850-085e-465c-83c5-91e5ae0dfe41",
   "metadata": {},
   "source": [
    "### Trying the ivp Solver"
   ]
  },
  {
   "cell_type": "code",
   "execution_count": 156,
   "id": "c5cacdfe-c6b0-4c70-9d5c-b94b9c0bd145",
   "metadata": {
    "tags": []
   },
   "outputs": [],
   "source": [
    "size = 1# 2**10 + 1\n",
    "hlf_sz = size//2\n",
    "σe = 1\n",
    "σi = 1\n",
    "τ = 0.2\n",
    "τ_mat = np.array([1,1/τ]).reshape(2,1)\n",
    "\n",
    "A = np.array([[1,1.5],[1, 0.25]]) # [[a_ee, a_ei],[a_ie, a_ii]]\n",
    "sub_A = A * np.array([[1,-1], [1,-1]])\n",
    "\n",
    "Θ = np.array([0.125, 0.4]).reshape(2,1) # [Θe, Θi]\n",
    "\n",
    "u = np.ones(size) #Plus 1 to have center\n",
    "v = np.ones(size)\n",
    "imp_wid = 33 #Width of Impulse\n",
    "# u[0:imp_wid] = 1 # +1 to capture the center point\n",
    "w = np.stack([u,v])\n",
    "\n",
    "out_check = list()\n",
    "\n",
    "## Get Normalized Kernal\n",
    "kern_ex = get_normalized_1d_K(size, σe)\n",
    "kern_in = get_normalized_1d_K(size, σi) \n",
    "# KK = np.stack([kern_ex, kern_in], axis=0)\n",
    "KK = np.stack([np.eye(kern_ex.shape[0]), np.eye(kern_in.shape[0])], axis=0)\n",
    "\n",
    "#Setup Nonlinear Function\n",
    "def F(x: np.array, β = 50)->np.array:\n",
    "    return 1/(1 + np.exp(-β * x))\n",
    "\n",
    "#Make derv statements\n",
    "def update(_, w):\n",
    "    w = w.reshape(2, size)\n",
    "    x = ((F((sub_A @ (KK @ w.T)[0].T) - Θ) - w) * τ_mat)\n",
    "    out_check.append(x)\n",
    "    return x.ravel()\n",
    "\n",
    "def update2(_,w):\n",
    "    \"\"\"Check of the linear algebra solution\"\"\"\n",
    "    w = w.reshape(2, size)\n",
    "    du = -w[0] + F(A[0,0]*w[0] - A[0,1]*w[1] - Θ[0])\n",
    "    dv = 1/τ*(-w[1] + F(A[1,0]*w[0] - A[1,1]*w[1] - Θ[1]))\n",
    "    return np.concatenate((du,dv))"
   ]
  },
  {
   "cell_type": "code",
   "execution_count": 157,
   "id": "7a83e4bc-d7e3-4422-a872-3064051b05cd",
   "metadata": {
    "tags": []
   },
   "outputs": [],
   "source": [
    "@dataclass\n",
    "class WCKernelParam:\n",
    "    A: np.ndarray # [[a_ee, a_ei],[a_ie, a_ii]]\n",
    "    Θ: np.ndarray # [Θe, Θi]\n",
    "    τ: np.ndarray # [τe==1, τi]\n",
    "    F: Callable\n",
    "    \n",
    "class WCKernel:\n",
    "    def __init__(self, u, v, param: WCKernelParam, kernel: Callable):\n",
    "        self._param = param\n",
    "        self._init_u = u\n",
    "        self._init_v = v\n",
    "        self.kernel = kernel\n",
    "        self._kernel_mesh = \n",
    "        \n",
    "    def get_kernel_mesh(self):\n",
    "        if self._kernel_mesh:\n",
    "            return self.kernel_mesh\n",
    "        \n",
    "        # self._kernel_mesh = \n",
    "        \n",
    "    @property\n",
    "    def inital_u(self):\n",
    "        return self._init_u\n",
    "\n",
    "    @property\n",
    "    def inital_v(self):\n",
    "        return self._init_v\n",
    "       \n",
    "    @property\n",
    "    def A(self):\n",
    "        return self._param.A\n",
    "\n",
    "    @property\n",
    "    def Θ(self):\n",
    "        return self._param.Θ\n",
    "    \n",
    "    @property\n",
    "    def τ(self):\n",
    "        return self._param.τ\n",
    "    \n",
    "    @property\n",
    "    def F(self):\n",
    "        return self._param.F\n"
   ]
  },
  {
   "cell_type": "code",
   "execution_count": 158,
   "id": "aa9a56f1-4f62-4dbd-b4b6-36ad03a9f19a",
   "metadata": {},
   "outputs": [],
   "source": [
    "test_param = WCKernel(np.array([1]), np.array([1]), np.array([1]), lambda: 1)\n",
    "test = WCKernel(np.array([1]), np.array([1]), test_param, lambda: 1)"
   ]
  },
  {
   "cell_type": "code",
   "execution_count": 159,
   "id": "5362008a-2fb4-43fe-bfce-155cdfba2572",
   "metadata": {
    "tags": []
   },
   "outputs": [],
   "source": [
    "res = scint.solve_ivp(update,(0,10), w.ravel())"
   ]
  },
  {
   "cell_type": "code",
   "execution_count": 160,
   "id": "8fd17637-6265-4b24-9185-05568568889b",
   "metadata": {
    "tags": []
   },
   "outputs": [],
   "source": [
    "out = [res.y[:,i].reshape(2,size)[0] for i in range(len(res.t))]"
   ]
  },
  {
   "cell_type": "code",
   "execution_count": 163,
   "id": "efdadec7-917d-4750-92d4-0e10424743dd",
   "metadata": {
    "tags": []
   },
   "outputs": [
    {
     "data": {
      "text/plain": [
       "  message: The solver successfully reached the end of the integration interval.\n",
       "  success: True\n",
       "   status: 0\n",
       "        t: [ 0.000e+00  1.072e-01 ...  9.986e+00  1.000e+01]\n",
       "        y: [[ 1.000e+00  8.983e-01 ...  4.236e-01  4.233e-01]\n",
       "            [ 1.000e+00  1.000e+00 ...  2.043e-01  2.041e-01]]\n",
       "      sol: None\n",
       " t_events: None\n",
       " y_events: None\n",
       "     nfev: 716\n",
       "     njev: 0\n",
       "      nlu: 0"
      ]
     },
     "execution_count": 163,
     "metadata": {},
     "output_type": "execute_result"
    }
   ],
   "source": [
    "res"
   ]
  },
  {
   "cell_type": "code",
   "execution_count": 162,
   "id": "ef5ffc56-0ee6-41a7-84fa-493dd815d0cb",
   "metadata": {
    "tags": []
   },
   "outputs": [
    {
     "data": {
      "text/html": [
       "<video width=\"640\" height=\"480\" controls autoplay loop>\n",
       "  <source type=\"video/mp4\" src=\"data:video/mp4;base64,AAAAIGZ0eXBNNFYgAAACAE00ViBpc29taXNvMmF2YzEAAAAIZnJlZQAAGkRtZGF0AAACrwYF//+r\n",
       "3EXpvebZSLeWLNgg2SPu73gyNjQgLSBjb3JlIDE2MyByMzA2MCA1ZGI2YWE2IC0gSC4yNjQvTVBF\n",
       "Ry00IEFWQyBjb2RlYyAtIENvcHlsZWZ0IDIwMDMtMjAyMSAtIGh0dHA6Ly93d3cudmlkZW9sYW4u\n",
       "b3JnL3gyNjQuaHRtbCAtIG9wdGlvbnM6IGNhYmFjPTEgcmVmPTMgZGVibG9jaz0xOjA6MCBhbmFs\n",
       "eXNlPTB4MzoweDExMyBtZT1oZXggc3VibWU9NyBwc3k9MSBwc3lfcmQ9MS4wMDowLjAwIG1peGVk\n",
       "X3JlZj0xIG1lX3JhbmdlPTE2IGNocm9tYV9tZT0xIHRyZWxsaXM9MSA4eDhkY3Q9MSBjcW09MCBk\n",
       "ZWFkem9uZT0yMSwxMSBmYXN0X3Bza2lwPTEgY2hyb21hX3FwX29mZnNldD0tMiB0aHJlYWRzPTEy\n",
       "IGxvb2thaGVhZF90aHJlYWRzPTIgc2xpY2VkX3RocmVhZHM9MCBucj0wIGRlY2ltYXRlPTEgaW50\n",
       "ZXJsYWNlZD0wIGJsdXJheV9jb21wYXQ9MCBjb25zdHJhaW5lZF9pbnRyYT0wIGJmcmFtZXM9MyBi\n",
       "X3B5cmFtaWQ9MiBiX2FkYXB0PTEgYl9iaWFzPTAgZGlyZWN0PTEgd2VpZ2h0Yj0xIG9wZW5fZ29w\n",
       "PTAgd2VpZ2h0cD0yIGtleWludD0yNTAga2V5aW50X21pbj0yNSBzY2VuZWN1dD00MCBpbnRyYV9y\n",
       "ZWZyZXNoPTAgcmNfbG9va2FoZWFkPTQwIHJjPWNyZiBtYnRyZWU9MSBjcmY9MjMuMCBxY29tcD0w\n",
       "LjYwIHFwbWluPTAgcXBtYXg9NjkgcXBzdGVwPTQgaXBfcmF0aW89MS40MCBhcT0xOjEuMDAAgAAA\n",
       "CfFliIQAN//+9vD+BTY7mNCXEc3onTMfvxW4ujQ3vc4AAAMAAAMAAAMBuaWF/3Z384ggAAADAHbA\n",
       "Fp6X3/YFIZ5gDmd0vndls6My39LdX+dOIla/rCSyF0UA+meFm2RDftoTRZPD9umpU70UA3hB6vaK\n",
       "79/OLafzrmZl2zaDPan17x0ddlMNBtfQTy+hpT4Qyvg+RaQViuTQnKdd9UL9qvBrw28TJwOCTtOR\n",
       "98vrPcYjzE9RvVZiZbij6wDdGpgbydouttD3tsa/95PJHRTWzlb4ea5Jizn61yhecSah6LCyzMqb\n",
       "CdmumFy1s3iZ5J9Qx7rS3X1dPpwupa914dYHFFBYoOzvloPPwSM/iEeKoKJoa8IKApAxJfHI+w4i\n",
       "AVOfbjssdrezP7+fNpnDUYDphDtYV5n5o5qHNgB0HaePtxQdI3mBpfPqKNNgUVygbvHy6s4adHn4\n",
       "8yQeNdGhY+xD7xbCkdcL/wwt6CE9GLlq44pCAjH/eWwNVbtsusJXceZk/uebccN9cCRcUA4BhX3z\n",
       "MQHx14m4n0R6egftGZtvSmpqtuDKdHH5dJ7BpYpCHpnyhJQfNS1qwOe8ced6+O3PR7zkXJtvR9yA\n",
       "90H5Jnkn+H8GdUAVT1J5MkP0/oniu/Oa+6X7MccDIyL6hTzjxeciD863lzgMs7qQX3bw3mfhbPmd\n",
       "d2hUFxFRcN0vhJLeXhR/UWxrisum874DNe2mHu0gd6PHHInk3oHeTDN41fCmeN9cX7OdFJhA0YzA\n",
       "kw7UZujUVOBQDFjLx1LLjkyy4QAYQeJGEQmtTO/OOnNbJtXFa8RZGX2F70Y8fBw63tZZYxeYN18X\n",
       "FcNeO4Oxo3R8MajS/3LtUEVrBmj0eXjDdiBdWemiU/bxXsTzXBwFjg6ZRpiGq+dYR2cXk6D0NvcQ\n",
       "O1CgbnISjqfKz2QabqoVT2k5AYnaLgIglVznZQ8rNvZz2AE/bClCFM7HCrXNT7OBMpKohQCMPD2q\n",
       "f1gM5mGeByElzTJdMkRdny7IO7wSswVZiiCsg/4HGZ3R+fl3f0ToeP+u4nxGmPKAAAADAAB+mAr/\n",
       "N3h143OJSJSNfE6/6msLe/sHkSJUcCPTUej2kjJAnSwKHy/yAAX75G+OV0pE1RTCeCTmlQQspk89\n",
       "r3pRtRBMfmQ1ExB5dTnjJsnCunDB3yoGZ+w14ZUYwM9nBrKma4j3Absphcth2vghyTsQ29pfXMtO\n",
       "kxrMNg/6HeTxMj288vnbYn4k01JJ2KPVCBw3qN+27vVjTqMEkxjrkvBYFNG3HsWQKmU5N9Rn1U3T\n",
       "cl48fAUUW2AGJsVhfHCqzghAAAADADsKDY1pznx7E2FwtlngUQ05XThs/UXLcs/LCI0LMUQ0VoCP\n",
       "S/yBX6qFNfidkyskieSu6cED+pGZVPK8ASI4RqBodnU45k/Zxrio4NmT2Lf7PoKxZZEvyENLgIu6\n",
       "KJleVDn27vowbx6iWj40VkZVORiBcm/fCILDm5+L4OMXyP88tt4MoVBwH+r0DMz93wvLhQBv907O\n",
       "N7e8a87TDOfaMeK9ftLKQNHqZOQZBQYl8EzUhWkciPoAtLPXnldJQRRqwAAAAwAwgOrW+nucfOiy\n",
       "Dnx88tbvNefCJuqtBWQ8tONU+HrRyxb9/ptTT6B/25xosDyclAJrr7+PfxAjS0bKELwU2oCHpKSK\n",
       "rgYkrcFZ7OZjMqkAnDkjPFB0xRzkud76nhM1ZZo1n1qBQxogMLYn8xVoztH02aKLebIPtdBWyEaC\n",
       "NOzkh2N8VmtRqZSmQlYrgl6TNd4bcqG1HTznZvxuwqLiwBAXLTu9h8mH9ahZMB+kInDWiLTvjqcb\n",
       "W08bISnfxScsu1fXNxkMV9auDE0+WZLM92MPbKCg9VVNJ1ELraZBYJKJACIldIjU7nTyA1aVnR5/\n",
       "QZ8L8P9rkF8rnLdA7ix6SUPgBmLYPeOorngqW3W2MYSvX5EizCIGW6iE13sxFGGz6UJkn4KPgMxI\n",
       "8d0m/tYnfQa8b1h9LxiCHZch1qZMLA18Bf/aR2EJCl1jkkOBNp6sbwfX1IumpBahDwiUFOm25RdE\n",
       "CGrxPh3onzSRcZ1pyqVmXNwR16leXFPVxVXPzz4uiMHngfL1vJXQT/1gYl38Uj3hezChwpiChbHf\n",
       "T6BBh86jwiBJkEReBPlnmEzfJgGF9PeIxjGSu6apgyQOaZrXqn/7uSs9P6b2EKmcyTexLnt9fJmv\n",
       "/glc9ZZFvoCL1tIg+2GmlR0IVNOaSDD3gRGXl2ca+CrelcCQdNaZuCJE4z3vS6d1nuTOKiEUjk0B\n",
       "EDXpRNaxC40Y9BcgJfiU3d6rTgjV4hTJCxkbU7TFHwPBa7Wf2pdqHyfU6FUv6dkFDpnINXGlIXK7\n",
       "qoVCFgZ17f5M7cjsFm3QY3QVruuqJxAq+59jE6zVwuHXXPA+XdClE6PHmUOYLITUMdWJ2YdCnXey\n",
       "0kFZiNLeeXYC8bjApxihv0lYCiHFFy9bQrf7UAV6qoDQRJpC0PSSJW0R82a9wQsGKaW5DVd8IhKj\n",
       "EdOSGttx8Tvm2nnLfNYLJlnQH+Tq0denET/HSGHRqSfAOWMyUoeq3RnJFuiwVBfBWekTBuUg+416\n",
       "49ndrkCEh/lsNqZw3xbWnccaKikzBxOvOkx0LufwVyY09+GR8UzrxYSrlVKBAy9vgdUHWwyersef\n",
       "4XTJWmSZx+0NdgSldb9tu5trStMzhDsYt0KDogawVxjE3/+Ax92QNhzgpFWXMNAoMR6QKM0ltxG+\n",
       "ibnLQTN/StVV3FesZTABgyQKfURqeXFwAoBk6nHWauKJiFEZ4cKws5ZckU+/TyF/foqv2io+633T\n",
       "ArRUTjc9gOKzFG1Xv3DLBQCPlxYWKXv+MZKvsWY59nPPAszY6pa1t52Fjwqnj7Bju6ME7HrrdPLU\n",
       "gKfsks6uzE73KDUvLnSxRQhtGKrXd9v0baj5pLdKO9wXc5q+5/HXYOAx0Ipk0G6J7yu8uDYPLDzU\n",
       "FBQnpcnNY/1AbBtvjS0YvspK/utAy/K3tANFYctGOTFLgIxdJiFTP3BwGWkgWr3vjzCc/KgQJ44C\n",
       "dUbRT2+7m2SEmyEEqyV8W85PMzaAwNcP/0C2yCRV+qmLnR/qtQ9bBpiXGfK32zizugW0v+uYsZLu\n",
       "ISIMvAkSFL3F8Zc8Tfpmk1WmXWJw3Pz17lUq/49Sxv4/3FRS06S7lDaMmfMjQGNfPx6uOFICt7//\n",
       "ATOfbsZybPdc6AQPHk3uw+FDtlGmE2wojr/u9S6hGY5GqVrPN9mOEVIJk++Igww04Zxl+pFocT8E\n",
       "Rl98xWHAcb47+0iz93bot1+R5mJizEA/SPUdk/GDeBg65Nme9Em6ZNsCxYNwKBJttARW/AZn41iv\n",
       "pYvvowkYDfgP+kXk5+Bvi2FYQLrfsh9IZNas2rJ1TqE5w0AAALeBAAAAcEGaJGxDf/6nhAA0/wFf\n",
       "h6fpBWm99fsE7CkACo8Kgt9ijW+SRV8vPJ0m0RaZJ2yghFy/UfgYMjayMH3myy1iZvKnIsVS4Mz8\n",
       "3HCQQV82QpHvbf2SsPWr1uz0ZbAbjl+YgwQyY1DmXADd0crAIj6sf4AAAABVQZ5CeIV/ACstODSm\n",
       "e+cceDWBt2ONwAHWemoqRWS7WP3DTvF9I/9mBUBBSzCE5ljBVlVGKq0BD0IdwBs6QU95pDJ6xPw9\n",
       "AHlWw5GNCIB4XBAAEM/n1wAAAF0BnmF0Qn8ANz5siQlLnbYSR2EAGxdskTRWS6d4Y0aItbeIe8Td\n",
       "GcS6teV0m6uAM/B0LREARLazeVOQZA+dg/ctXuMXp9UDjk2zBfT12zWQEVimMDvkoUvvAAADA1IA\n",
       "AABZAZ5jakJ/AAAdsGlG/TbUxn/NO2oABtR02Z3wsJ+MyP7xpn4QU5X4w+soDXSxApNdOlLrXmZE\n",
       "aXVjshiRq9Va3BDQFWAVhdmQcIZlxy4xu7Ol//BF2UAAOmEAAACtQZpoSahBaJlMCG///qeEAAAD\n",
       "AVH3hPw+9S5KXeYflZ2c/kAK6iZy2lLj4QOYFd6HZfJFD+Gxt2cXHC6D3LdltXq5q0VNyJ/Rl+iL\n",
       "JyKtY0c33x6QFq20+MVUbu3GFfN0D4iycUln/n79yrm452ElQLc+80eN7tYuuwDj7yafStsCBd0p\n",
       "OQcngKDgsf3/UEwIJWayHD4PbAxanHxEn9VQbzPjHMfJLUTxOl0AAh8AAABoQZ6GRREsK/8AAAMB\n",
       "DZEdFs+QjTcxqB1i+bYADtDtZ51JpRpjiqXYV0Mw7q4ohMauWTSEyV7scw/3GQRen8qcYKsqoxVW\n",
       "gY1/FuW1kJoMu5tHvGA9cmQCvvGRpsd6Y4WQnKWpoUamF6EAAABpAZ6ldEJ/AAADAWJFPJ42wTRr\n",
       "8YAW8dTfVDQPmO/VUVoZKWPuC45mIqTRIj0+pLfLObymyfl5R6VEWMAX5ax37AXs3INuGfMsZuTA\n",
       "B7L4y5315yz7Utp1IKCn2rRRJKKvFUWB7JdoAKmBAAAAHgGep2pCfwAAAwFZt/Dq30ZsG+MbLebh\n",
       "WmJy/WALuAAAAElBmqlJqEFsmUwIb//+p4QAAAMABYfQyyzfAq6GAzw3GIBvtg9QtLens/BLyiDU\n",
       "V7s0HJvKrTwEKj9r+wte59/XCHwFT7lfABTQAAAAMkGazUnhClJlMCG//qeEAAADAAWH1ZGAFxlb\n",
       "uG4lWKwtsTyRO0wr6fQH6xPk0OeGABixAAAAIUGe60U0TCv/AAADAQX1iRyVmRB8eSvQ0878Z9aB\n",
       "z353oAAAABkBnwp0Qn8AAAMBWUYxT7PBV9FonSnOHAGBAAAAGQGfDGpCfwAAAwFZt+/npMmlen0M\n",
       "lbIAb0EAAAAkQZsRSahBaJlMCG///qeEAAADAAWIThbx8/kZD7Nd5XTHYBHxAAAAHUGfL0URLCv/\n",
       "AAADAQYMx/n7kJlEeb+eHHA3Fd4tAAAAHQGfTnRCfwAAAwFZRjFPs7/JfmgA1BAU1YYEAChgAAAA\n",
       "GQGfUGpCfwAAAwFZt+/npMmlen0MlbIAb0AAAAAeQZtVSahBbJlMCG///qeEAAADAAWH0fZuTs/Q\n",
       "AJOBAAAAHUGfc0UVLCv/AAADAQYMx/n7kIjSTHL9GDgbnuKeAAAAGAGfknRCfwAAAwFZRjFPs8BX\n",
       "IWHWBsgBvQAAABgBn5RqQn8AAAMBWbfv56TJkvzARVAAoYEAAAAxQZuZSahBbJlMCG///qeEAAAD\n",
       "AAWIGIngEI+Fyj7U80l+gvMLJvZ/uuKmKJG5roAEnAAAABxBn7dFFSwr/wAAAwEGDMf5+5CCrgjO\n",
       "tgJqxNPBAAAAFwGf1nRCfwAAAwFZRjFPs79yTDG+ABQxAAAAGAGf2GpCfwAAAwFZt+/npMichbhT\n",
       "IIAFDAAAAB1Bm91JqEFsmUwIb//+p4QAAAMABYhDNSGIlAA+YQAAAB1Bn/tFFSwr/wAAAwEGDMf5\n",
       "+5CN+t5rPJmBuRCDwAAAABUBnhp0Qn8AAAMBWUYxT7LVGd9gCRkAAAAXAZ4cakJ/AAADAVm37+ek\n",
       "yQRuFQEAChkAAAAcQZoBSahBbJlMCG///qeEAAADAAWIFCoo46ABJwAAABxBnj9FFSwr/wAAAwEG\n",
       "DMf5+5CCdbzf2WYG5pxJAAAAFwGeXnRCfwAAAwFZRjFPs79yTDG+ABQxAAAAFQGeQGpCfwAAAwFZ\n",
       "t+/no/90tWAHdAAAABlBmkVJqEFsmUwIb//+p4QAAAMAAAMAAFlBAAAAG0GeY0UVLCv/AAADAQYM\n",
       "x/n7j8fMCjtAciYxOAAAABkBnoJ0Qn8AAAMBWUYxT7PBXIWoT1zQAKGBAAAAGAGehGpCfwAAAwFZ\n",
       "t+/npMichX0iwxgBBwAAABlBmolJqEFsmUwIb//+p4QAAAMAAAMAAFlBAAAAHkGep0UVLCv/AAAD\n",
       "AQYMx/n7kIjHm1nnGMEwNzTgeQAAABcBnsZ0Qn8AAAMBWUYxT7PA/t288gAUMAAAABcBnshqQn8A\n",
       "AAMBWbfv56TIPsyc3YAQcAAAABlBms1JqEFsmUwIb//+p4QAAAMAAAMAAFlBAAAAG0Ge60UVLCv/\n",
       "AAADAQYMx/n7j8fMCjtAciYxOAAAABUBnwp0Qn8AAAMBWUYxT7LVGd9gCRgAAAAYAZ8MakJ/AAAD\n",
       "AVm37+ekyJyFfSLDGAEHAAAAOUGbEUmoQWyZTAhv//6nhAAAAwAFh9WRgAXFoHcyYDn7GPiPiFr/\n",
       "uUeDYcG6/GcEcRssoo3BKAB8wQAAAB1Bny9FFSwr/wAAAwEGDMf5+5CN+t5rPJmBuRCDwQAAABcB\n",
       "n050Qn8AAAMBWUYxT7PAP7RzKzACDgAAABcBn1BqQn8AAAMBWbfv56TJBG4VAQAKGAAAABxBm1VJ\n",
       "qEFsmUwIb//+p4QAAAMABYgUKijjoAEnAAAAHEGfc0UVLCv/AAADAQYMx/n7kIJ1vN/ZZgbmnEkA\n",
       "AAAXAZ+SdEJ/AAADAVlGMU+zv3JMMb4AFDAAAAAVAZ+UakJ/AAADAVm37+ej/3S1YAd1AAAAGUGb\n",
       "mUmoQWyZTAhv//6nhAAAAwAAAwAAWUAAAAAbQZ+3RRUsK/8AAAMBBgzH+fuPx8wKO0ByJjE5AAAA\n",
       "GQGf1nRCfwAAAwFZRjFPs8FchahPXNAAoYEAAAAYAZ/YakJ/AAADAVm37+ekyJyFfSLDGAEHAAAA\n",
       "GUGb3UmoQWyZTAhv//6nhAAAAwAAAwAAWUEAAAAeQZ/7RRUsK/8AAAMBBgzH+fuQiMebWecYwTA3\n",
       "NOB4AAAAFwGeGnRCfwAAAwFZRjFPs8D+3bzyABQxAAAAFwGeHGpCfwAAAwFZt+/npMg+zJzdgBBx\n",
       "AAAAGUGaAUmoQWyZTAhv//6nhAAAAwAAAwAAWUAAAAAbQZ4/RRUsK/8AAAMBBgzH+fuPx8wKO0By\n",
       "JjE4AAAAFQGeXnRCfwAAAwFZRjFPstUZ32AJGQAAABgBnkBqQn8AAAMBWbfv56TInIV9IsMYAQcA\n",
       "AAAqQZpFSahBbJlMCG///qeEAAADAAWH1ZGABFSCQ2/caazJCUux9lDXQAJPAAAAHUGeY0UVLCv/\n",
       "AAADAQYMx/n7kI363ms8mYG5EIPAAAAAFwGegnRCfwAAAwFZRjFPs8A/tHMrMAIPAAAAFwGehGpC\n",
       "fwAAAwFZt+/npMkEbhUBAAoZAAAAHEGaiUmoQWyZTAhv//6nhAAAAwAFiBQqKOOgAScAAAAcQZ6n\n",
       "RRUsK/8AAAMBBgzH+fuQgnW839lmBuacSQAAABcBnsZ0Qn8AAAMBWUYxT7O/ckwxvgAUMAAAABUB\n",
       "nshqQn8AAAMBWbfv56P/dLVgB3QAAAAZQZrNSahBbJlMCG///qeEAAADAAADAABZQQAAABtBnutF\n",
       "FSwr/wAAAwEGDMf5+4/HzAo7QHImMTgAAAAZAZ8KdEJ/AAADAVlGMU+zwVyFqE9c0AChgAAAABgB\n",
       "nwxqQn8AAAMBWbfv56TInIV9IsMYAQcAAAAZQZsRSahBbJlMCG///qeEAAADAAADAABZQQAAAB5B\n",
       "ny9FFSwr/wAAAwEGDMf5+5CIx5tZ5xjBMDc04HkAAAAXAZ9OdEJ/AAADAVlGMU+zwP7dvPIAFDAA\n",
       "AAAXAZ9QakJ/AAADAVm37+ekyD7MnN2AEHAAAAAZQZtVSahBbJlMCG///qeEAAADAAADAABZQQAA\n",
       "ABtBn3NFFSwr/wAAAwEGDMf5+4/HzAo7QHImMTgAAAAVAZ+SdEJ/AAADAVlGMU+y1RnfYAkYAAAA\n",
       "GAGflGpCfwAAAwFZt+/npMichX0iwxgBBwAAACNBm5lJqEFsmUwIZ//+nhAAAAMAFY4eBIAIwTms\n",
       "/WevkAATcAAAAB1Bn7dFFSwr/wAAAwEGDMf5+5CN+t5rPJmBuRCDwQAAABcBn9Z0Qn8AAAMBWUYx\n",
       "T7PAP7RzKzACDwAAABcBn9hqQn8AAAMBWbfv56TJBG4VAQAKGAAAABtBm91JqEFsmUwIT//98QAA\n",
       "AwAAzcqUczYgAx8AAAAcQZ/7RRUsK/8AAAMBBgzH+fuQgnW839lmBuacSQAAABcBnhp0Qn8AAAMB\n",
       "WUYxT7O/ckwxvgAUMQAAABUBnhxqQn8AAAMBWbfv56P/dLVgB3UAAAeabW9vdgAAAGxtdmhkAAAA\n",
       "AAAAAAAAAAAAAAAD6AAADD4AAQAAAQAAAAAAAAAAAAAAAAEAAAAAAAAAAAAAAAAAAAABAAAAAAAA\n",
       "AAAAAAAAAABAAAAAAAAAAAAAAAAAAAAAAAAAAAAAAAAAAAAAAAAAAgAABsR0cmFrAAAAXHRraGQA\n",
       "AAADAAAAAAAAAAAAAAABAAAAAAAADD4AAAAAAAAAAAAAAAAAAAAAAAEAAAAAAAAAAAAAAAAAAAAB\n",
       "AAAAAAAAAAAAAAAAAABAAAAAAoAAAAHgAAAAAAAkZWR0cwAAABxlbHN0AAAAAAAAAAEAAAw+AAAE\n",
       "AAABAAAAAAY8bWRpYQAAACBtZGhkAAAAAAAAAAAAAAAAAAA8AAAAvABVxAAAAAAALWhkbHIAAAAA\n",
       "AAAAAHZpZGUAAAAAAAAAAAAAAABWaWRlb0hhbmRsZXIAAAAF521pbmYAAAAUdm1oZAAAAAEAAAAA\n",
       "AAAAAAAAACRkaW5mAAAAHGRyZWYAAAAAAAAAAQAAAAx1cmwgAAAAAQAABadzdGJsAAAAt3N0c2QA\n",
       "AAAAAAAAAQAAAKdhdmMxAAAAAAAAAAEAAAAAAAAAAAAAAAAAAAAAAoAB4ABIAAAASAAAAAAAAAAB\n",
       "AAAAAAAAAAAAAAAAAAAAAAAAAAAAAAAAAAAAAAAAAAAAGP//AAAANWF2Y0MBZAAe/+EAGGdkAB6s\n",
       "2UCgPaEAAAMAAQAAAwA8DxYtlgEABmjr48siwP34+AAAAAAcdXVpZGtoQPJfJE/FujmlG88DI/MA\n",
       "AAAAAAAAGHN0dHMAAAAAAAAAAQAAAF4AAAIAAAAAFHN0c3MAAAAAAAAAAQAAAAEAAAMAY3R0cwAA\n",
       "AAAAAABeAAAAAQAABAAAAAABAAAKAAAAAAEAAAQAAAAAAQAAAAAAAAABAAACAAAAAAEAAAoAAAAA\n",
       "AQAABAAAAAABAAAAAAAAAAEAAAIAAAAAAQAABAAAAAABAAAKAAAAAAEAAAQAAAAAAQAAAAAAAAAB\n",
       "AAACAAAAAAEAAAoAAAAAAQAABAAAAAABAAAAAAAAAAEAAAIAAAAAAQAACgAAAAABAAAEAAAAAAEA\n",
       "AAAAAAAAAQAAAgAAAAABAAAKAAAAAAEAAAQAAAAAAQAAAAAAAAABAAACAAAAAAEAAAoAAAAAAQAA\n",
       "BAAAAAABAAAAAAAAAAEAAAIAAAAAAQAACgAAAAABAAAEAAAAAAEAAAAAAAAAAQAAAgAAAAABAAAK\n",
       "AAAAAAEAAAQAAAAAAQAAAAAAAAABAAACAAAAAAEAAAoAAAAAAQAABAAAAAABAAAAAAAAAAEAAAIA\n",
       "AAAAAQAACgAAAAABAAAEAAAAAAEAAAAAAAAAAQAAAgAAAAABAAAKAAAAAAEAAAQAAAAAAQAAAAAA\n",
       "AAABAAACAAAAAAEAAAoAAAAAAQAABAAAAAABAAAAAAAAAAEAAAIAAAAAAQAACgAAAAABAAAEAAAA\n",
       "AAEAAAAAAAAAAQAAAgAAAAABAAAKAAAAAAEAAAQAAAAAAQAAAAAAAAABAAACAAAAAAEAAAoAAAAA\n",
       "AQAABAAAAAABAAAAAAAAAAEAAAIAAAAAAQAACgAAAAABAAAEAAAAAAEAAAAAAAAAAQAAAgAAAAAB\n",
       "AAAKAAAAAAEAAAQAAAAAAQAAAAAAAAABAAACAAAAAAEAAAoAAAAAAQAABAAAAAABAAAAAAAAAAEA\n",
       "AAIAAAAAAQAACgAAAAABAAAEAAAAAAEAAAAAAAAAAQAAAgAAAAABAAAKAAAAAAEAAAQAAAAAAQAA\n",
       "AAAAAAABAAACAAAAAAEAAAoAAAAAAQAABAAAAAABAAAAAAAAAAEAAAIAAAAAAQAACgAAAAABAAAE\n",
       "AAAAAAEAAAAAAAAAAQAAAgAAAAAcc3RzYwAAAAAAAAABAAAAAQAAAF4AAAABAAABjHN0c3oAAAAA\n",
       "AAAAAAAAAF4AAAyoAAAAdAAAAFkAAABhAAAAXQAAALEAAABsAAAAbQAAACIAAABNAAAANgAAACUA\n",
       "AAAdAAAAHQAAACgAAAAhAAAAIQAAAB0AAAAiAAAAIQAAABwAAAAcAAAANQAAACAAAAAbAAAAHAAA\n",
       "ACEAAAAhAAAAGQAAABsAAAAgAAAAIAAAABsAAAAZAAAAHQAAAB8AAAAdAAAAHAAAAB0AAAAiAAAA\n",
       "GwAAABsAAAAdAAAAHwAAABkAAAAcAAAAPQAAACEAAAAbAAAAGwAAACAAAAAgAAAAGwAAABkAAAAd\n",
       "AAAAHwAAAB0AAAAcAAAAHQAAACIAAAAbAAAAGwAAAB0AAAAfAAAAGQAAABwAAAAuAAAAIQAAABsA\n",
       "AAAbAAAAIAAAACAAAAAbAAAAGQAAAB0AAAAfAAAAHQAAABwAAAAdAAAAIgAAABsAAAAbAAAAHQAA\n",
       "AB8AAAAZAAAAHAAAACcAAAAhAAAAGwAAABsAAAAfAAAAIAAAABsAAAAZAAAAFHN0Y28AAAAAAAAA\n",
       "AQAAADAAAABidWR0YQAAAFptZXRhAAAAAAAAACFoZGxyAAAAAAAAAABtZGlyYXBwbAAAAAAAAAAA\n",
       "AAAAAC1pbHN0AAAAJal0b28AAAAdZGF0YQAAAAEAAAAATGF2ZjU4Ljc2LjEwMA==\n",
       "\">\n",
       "  Your browser does not support the video tag.\n",
       "</video>"
      ],
      "text/plain": [
       "<IPython.core.display.HTML object>"
      ]
     },
     "execution_count": 162,
     "metadata": {},
     "output_type": "execute_result"
    },
    {
     "data": {
      "image/png": "[encoded data removed]",
      "text/plain": [
       "<Figure size 640x480 with 1 Axes>"
      ]
     },
     "metadata": {},
     "output_type": "display_data"
    }
   ],
   "source": [
    "fig, ax = plt.subplots()\n",
    "\n",
    "line1, = ax.plot(np.linspace(-100, 100, size), out[0], 'ro')\n",
    "ax.set_ylim(0,1)\n",
    "\n",
    "def update_gif(i, ln):\n",
    "    ln.set_data(np.linspace(-100, 100, size), out[i])\n",
    "    return ln,\n",
    "\n",
    "anim = FuncAnimation(fig, partial(update_gif, ln=line1), frames=range(len(out)),interval=1000/30)\n",
    "# anim\n",
    "HTML(anim.to_html5_video())\n",
    "# ani.save('test_anim.gif', fps=30)"
   ]
  },
  {
   "cell_type": "code",
   "execution_count": 337,
   "id": "ade288b7-36ca-46a6-a42e-bc236ec7d727",
   "metadata": {
    "tags": []
   },
   "outputs": [],
   "source": [
    "new_w = w"
   ]
  },
  {
   "cell_type": "code",
   "execution_count": 128,
   "id": "53fe948f-178c-41e1-aa7f-a18fc2952a60",
   "metadata": {
    "tags": []
   },
   "outputs": [],
   "source": [
    "progress = list()\n",
    "for _ in range(1):\n",
    "    progress.append(new_w.copy())\n",
    "    new_w = new_w.ravel() + update(_,new_w.ravel())"
   ]
  },
  {
   "cell_type": "code",
   "execution_count": 184,
   "id": "1d0c5bdf-1a8a-46b2-b200-31a10eb7560e",
   "metadata": {
    "tags": []
   },
   "outputs": [],
   "source": [
    "pics = [(x.reshape(size, 1) @ x.reshape(1, size)) for x in out]"
   ]
  }
 ],
 "metadata": {
  "kernelspec": {
   "display_name": "Python 3 (ipykernel)",
   "language": "python",
   "name": "python3"
  },
  "language_info": {
   "codemirror_mode": {
    "name": "ipython",
    "version": 3
   },
   "file_extension": ".py",
   "mimetype": "text/x-python",
   "name": "python",
   "nbconvert_exporter": "python",
   "pygments_lexer": "ipython3",
   "version": "3.10.6"
  }
 },
 "nbformat": 4,
 "nbformat_minor": 5
}
