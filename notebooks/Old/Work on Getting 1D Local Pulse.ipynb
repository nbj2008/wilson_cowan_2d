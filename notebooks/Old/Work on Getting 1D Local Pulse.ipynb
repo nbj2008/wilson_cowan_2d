{
 "cells": [
  {
   "cell_type": "code",
   "execution_count": 1,
   "id": "3672bc2b-3e3c-4179-a399-6093ccf26ec6",
   "metadata": {
    "tags": []
   },
   "outputs": [],
   "source": [
    "from scipy import optimize as opt\n",
    "from scipy import integrate as scint\n",
    "from scipy import linalg as la\n",
    "from scipy import signal as sps\n",
    "\n",
    "import numpy as np\n",
    "\n",
    "from itertools import product\n",
    "from functools import partial\n",
    "\n",
    "#Plotting\n",
    "from matplotlib import pyplot as plt\n",
    "from matplotlib.animation import FuncAnimation\n",
    "from array2gif import write_gif\n",
    "import animatplot as ani\n",
    "\n",
    "# Jax\n",
    "import jax\n",
    "from jax import numpy as jnp\n",
    "\n",
    "#Class Niceities\n",
    "from dataclasses import dataclass\n",
    "from abc import ABC, abstractproperty\n",
    "\n",
    "#Typing\n",
    "from typing import Any, Tuple, List, Callable\n",
    "\n",
    "#Display\n",
    "from IPython.display import clear_output\n",
    "from IPython.display import HTML\n",
    "from time import sleep\n",
    "\n",
    "\n",
    "# Mine\n",
    "from wilson_cowan_2d.systems.concrete_solvers import UVRK4, WZRK4\n",
    "from wilson_cowan_2d.systems import concrete_wc_kernel as wck\n",
    "from wilson_cowan_2d.kernels import decreasing_exponential, Dist1DGrid\n",
    "from wilson_cowan_2d.kernels.kernels import make_K_2_populations"
   ]
  },
  {
   "cell_type": "code",
   "execution_count": 33,
   "id": "76e9836f-b7d7-404c-94da-1c70ccfb64a6",
   "metadata": {
    "tags": []
   },
   "outputs": [],
   "source": [
    "tt = tst_inp[0]/np.sum(tst_inp[0], axis=0)\n",
    "tt = (tt, 0)"
   ]
  },
  {
   "cell_type": "code",
   "execution_count": 34,
   "id": "788d592d-22cf-4339-aa36-60c14b061543",
   "metadata": {
    "tags": []
   },
   "outputs": [],
   "source": [
    "ret = test(tt, (0, tst_grid_size), h=0.25)"
   ]
  },
  {
   "cell_type": "code",
   "execution_count": 38,
   "id": "d82e02f1-5428-4949-a6ab-a41f2028d875",
   "metadata": {
    "tags": []
   },
   "outputs": [],
   "source": [
    "test = WZRK4(grid_deriv, tst_grid_size)"
   ]
  },
  {
   "cell_type": "code",
   "execution_count": 39,
   "id": "b3f412e6-de53-4094-8f1e-7890a35bf3ac",
   "metadata": {
    "tags": []
   },
   "outputs": [],
   "source": [
    "def derivative(t, inp):\n",
    "    \"\"\"Check of the linear algebra solution\"\"\"\n",
    "    \n",
    "    u, v, w, z = inp\n",
    "    # derv u\n",
    "    du = 1/μ*(-u + param.F(param.A[0,0]*w - param.A[0,1]*v - param.Θ[0])).reshape(u.shape)\n",
    "    \n",
    "    # derv v\n",
    "    dv = 1/μ*(1/param.τ*(-v + param.F(param.A[1,0]*w - param.A[1,1]*v - param.Θ[1]))).reshape(v.shape)\n",
    "    \n",
    "    # derv w\n",
    "    dw = z\n",
    "    \n",
    "    # derv z\n",
    "    dz = (w - u)/σ**2\n",
    "    \n",
    "    return (du, dv, dw, dz)\n",
    "\n",
    "# def derivative(t, inp):\n",
    "#     dts = t_derivative(t, inp)\n",
    "#     xs = "
   ]
  },
  {
   "cell_type": "code",
   "execution_count": 3283,
   "id": "792d8e65-b0b2-4746-9fe2-625635e44690",
   "metadata": {
    "tags": []
   },
   "outputs": [],
   "source": [
    "param = wck.DefaultParams(τ = 0.001, size = 2**9)\n",
    "# param.A = np.array([[500, 1.5],[0.25, 1.5]])\n",
    "param.F = lambda x: 1/(1 + np.exp(-50000 * x))\n",
    "σe = 3\n",
    "σi = 0.8 * σe\n",
    "\n",
    "η = 3.2\n",
    "\n",
    "def derivative(t, inp, size):\n",
    "    \"\"\"Check of the linear algebra solution\"\"\"\n",
    "    u, v, w, z, q, p = np.split(inp.reshape(6*size, 1), 6)\n",
    "    # derv u\n",
    "    du = 1/η*(-u + param.F((param.A[0,0]*w - param.A[0,1]*v - param.Θ[0]))).reshape(u.shape)\n",
    "    \n",
    "    # derv v\n",
    "    dv = 1/(η*param.τ)*(-v + param.F(param.A[1,0]*w - param.A[1,1]*v - param.Θ[1])).reshape(v.shape)\n",
    "    \n",
    "    # derv w\n",
    "    dw = z\n",
    "    \n",
    "    # derv z\n",
    "    dz = (w-u)/σe**2\n",
    "    \n",
    "    # derv w\n",
    "    dq = p\n",
    "    \n",
    "    # derv z\n",
    "    dp = (q-v)/σi**2\n",
    "    \n",
    "    return np.concatenate((du, dv, dw, dz, dq, dp)).ravel()\n",
    "\n",
    "# def derivative(t, inp):\n",
    "#     dts = t_derivative(t, inp)\n",
    "#     xs = "
   ]
  },
  {
   "cell_type": "code",
   "execution_count": null,
   "id": "eda77200-04ca-49c3-933d-c96042b0f3b2",
   "metadata": {},
   "outputs": [],
   "source": []
  },
  {
   "cell_type": "code",
   "execution_count": 3284,
   "id": "5db9b641-894e-490c-9337-f5f919e89de5",
   "metadata": {
    "tags": []
   },
   "outputs": [
    {
     "data": {
      "text/plain": [
       "1.0"
      ]
     },
     "execution_count": 3284,
     "metadata": {},
     "output_type": "execute_result"
    }
   ],
   "source": [
    "param.A[1,0]"
   ]
  },
  {
   "cell_type": "code",
   "execution_count": 3285,
   "id": "58bef3a7-1181-4476-add1-69db7b85bf55",
   "metadata": {
    "tags": []
   },
   "outputs": [],
   "source": [
    "d_test = UVRK4(derivative)\n",
    "\n",
    "u_str = 1\n",
    "v_str = 1\n",
    "e_kern = decreasing_exponential(Dist1DGrid(param.size).grid, σe)\n",
    "e_kern = e_kern/e_kern.sum(axis=1)\n",
    "i_kern = decreasing_exponential(Dist1DGrid(param.size).grid, σi)\n",
    "i_kern = i_kern/i_kern.sum(axis=1)\n",
    "\n",
    "u = 0.01*np.zeros(param.size).reshape((param.size,1))#*np.power(np.sin(np.arange(0, 512,1)/2**1),2 )\n",
    "u[0:2**1] = u_str\n",
    "v = 0.01*np.zeros(param.size).reshape((param.size, 1))\n",
    "# v[0:2**1] = v_str\n",
    "w = (e_kern @ u).reshape((param.size, 1))\n",
    "q = (i_kern @ v).reshape((param.size, 1))\n",
    "z = np.zeros_like(w) #np.gradient(w[:,0]).reshape((param.size, 1))\n",
    "p = np.zeros_like(q) #np.gradient(q[:,0]).reshape((param.size, 1))\n",
    "inp = (u, v, w, z, q, p)"
   ]
  },
  {
   "cell_type": "code",
   "execution_count": 3302,
   "id": "8fea37b4-3fbc-46bd-aa4d-4a317be6f9b1",
   "metadata": {
    "tags": []
   },
   "outputs": [
    {
     "data": {
      "text/plain": [
       "(3072, 1)"
      ]
     },
     "execution_count": 3302,
     "metadata": {},
     "output_type": "execute_result"
    }
   ],
   "source": [
    "ainp.shape"
   ]
  },
  {
   "cell_type": "code",
   "execution_count": 3339,
   "id": "c7c95ef0-a19b-46a5-b771-6bc5b03151a5",
   "metadata": {
    "tags": []
   },
   "outputs": [
    {
     "data": {
      "text/plain": [
       "[array([1., 1., 0., 0., 0., 0., 0., 0., 0., 0., 0., 0., 0., 0., 0., 0., 0.,\n",
       "        0., 0., 0., 0., 0., 0., 0., 0., 0., 0., 0., 0., 0., 0., 0., 0., 0.,\n",
       "        0., 0., 0., 0., 0., 0., 0., 0., 0., 0., 0., 0., 0., 0., 0., 0., 0.,\n",
       "        0., 0., 0., 0., 0., 0., 0., 0., 0., 0., 0., 0., 0., 0., 0., 0., 0.,\n",
       "        0., 0., 0., 0., 0., 0., 0., 0., 0., 0., 0., 0., 0., 0., 0., 0., 0.,\n",
       "        0., 0., 0., 0., 0., 0., 0., 0., 0., 0., 0., 0., 0., 0., 0., 0., 0.,\n",
       "        0., 0., 0., 0., 0., 0., 0., 0., 0., 0., 0., 0., 0., 0., 0., 0., 0.,\n",
       "        0., 0., 0., 0., 0., 0., 0., 0., 0., 0., 0., 0., 0., 0., 0., 0., 0.,\n",
       "        0., 0., 0., 0., 0., 0., 0., 0., 0., 0., 0., 0., 0., 0., 0., 0., 0.,\n",
       "        0., 0., 0., 0., 0., 0., 0., 0., 0., 0., 0., 0., 0., 0., 0., 0., 0.,\n",
       "        0., 0., 0., 0., 0., 0., 0., 0., 0., 0., 0., 0., 0., 0., 0., 0., 0.,\n",
       "        0., 0., 0., 0., 0., 0., 0., 0., 0., 0., 0., 0., 0., 0., 0., 0., 0.,\n",
       "        0., 0., 0., 0., 0., 0., 0., 0., 0., 0., 0., 0., 0., 0., 0., 0., 0.,\n",
       "        0., 0., 0., 0., 0., 0., 0., 0., 0., 0., 0., 0., 0., 0., 0., 0., 0.,\n",
       "        0., 0., 0., 0., 0., 0., 0., 0., 0., 0., 0., 0., 0., 0., 0., 0., 0.,\n",
       "        0., 0., 0., 0., 0., 0., 0., 0., 0., 0., 0., 0., 0., 0., 0., 0., 0.,\n",
       "        0., 0., 0., 0., 0., 0., 0., 0., 0., 0., 0., 0., 0., 0., 0., 0., 0.,\n",
       "        0., 0., 0., 0., 0., 0., 0., 0., 0., 0., 0., 0., 0., 0., 0., 0., 0.,\n",
       "        0., 0., 0., 0., 0., 0., 0., 0., 0., 0., 0., 0., 0., 0., 0., 0., 0.,\n",
       "        0., 0., 0., 0., 0., 0., 0., 0., 0., 0., 0., 0., 0., 0., 0., 0., 0.,\n",
       "        0., 0., 0., 0., 0., 0., 0., 0., 0., 0., 0., 0., 0., 0., 0., 0., 0.,\n",
       "        0., 0., 0., 0., 0., 0., 0., 0., 0., 0., 0., 0., 0., 0., 0., 0., 0.,\n",
       "        0., 0., 0., 0., 0., 0., 0., 0., 0., 0., 0., 0., 0., 0., 0., 0., 0.,\n",
       "        0., 0., 0., 0., 0., 0., 0., 0., 0., 0., 0., 0., 0., 0., 0., 0., 0.,\n",
       "        0., 0., 0., 0., 0., 0., 0., 0., 0., 0., 0., 0., 0., 0., 0., 0., 0.,\n",
       "        0., 0., 0., 0., 0., 0., 0., 0., 0., 0., 0., 0., 0., 0., 0., 0., 0.,\n",
       "        0., 0., 0., 0., 0., 0., 0., 0., 0., 0., 0., 0., 0., 0., 0., 0., 0.,\n",
       "        0., 0., 0., 0., 0., 0., 0., 0., 0., 0., 0., 0., 0., 0., 0., 0., 0.,\n",
       "        0., 0., 0., 0., 0., 0., 0., 0., 0., 0., 0., 0., 0., 0., 0., 0., 0.,\n",
       "        0., 0., 0., 0., 0., 0., 0., 0., 0., 0., 0., 0., 0., 0., 0., 0., 0.,\n",
       "        0., 0.]),\n",
       " array([0., 0., 0., 0., 0., 0., 0., 0., 0., 0., 0., 0., 0., 0., 0., 0., 0.,\n",
       "        0., 0., 0., 0., 0., 0., 0., 0., 0., 0., 0., 0., 0., 0., 0., 0., 0.,\n",
       "        0., 0., 0., 0., 0., 0., 0., 0., 0., 0., 0., 0., 0., 0., 0., 0., 0.,\n",
       "        0., 0., 0., 0., 0., 0., 0., 0., 0., 0., 0., 0., 0., 0., 0., 0., 0.,\n",
       "        0., 0., 0., 0., 0., 0., 0., 0., 0., 0., 0., 0., 0., 0., 0., 0., 0.,\n",
       "        0., 0., 0., 0., 0., 0., 0., 0., 0., 0., 0., 0., 0., 0., 0., 0., 0.,\n",
       "        0., 0., 0., 0., 0., 0., 0., 0., 0., 0., 0., 0., 0., 0., 0., 0., 0.,\n",
       "        0., 0., 0., 0., 0., 0., 0., 0., 0., 0., 0., 0., 0., 0., 0., 0., 0.,\n",
       "        0., 0., 0., 0., 0., 0., 0., 0., 0., 0., 0., 0., 0., 0., 0., 0., 0.,\n",
       "        0., 0., 0., 0., 0., 0., 0., 0., 0., 0., 0., 0., 0., 0., 0., 0., 0.,\n",
       "        0., 0., 0., 0., 0., 0., 0., 0., 0., 0., 0., 0., 0., 0., 0., 0., 0.,\n",
       "        0., 0., 0., 0., 0., 0., 0., 0., 0., 0., 0., 0., 0., 0., 0., 0., 0.,\n",
       "        0., 0., 0., 0., 0., 0., 0., 0., 0., 0., 0., 0., 0., 0., 0., 0., 0.,\n",
       "        0., 0., 0., 0., 0., 0., 0., 0., 0., 0., 0., 0., 0., 0., 0., 0., 0.,\n",
       "        0., 0., 0., 0., 0., 0., 0., 0., 0., 0., 0., 0., 0., 0., 0., 0., 0.,\n",
       "        0., 0., 0., 0., 0., 0., 0., 0., 0., 0., 0., 0., 0., 0., 0., 0., 0.,\n",
       "        0., 0., 0., 0., 0., 0., 0., 0., 0., 0., 0., 0., 0., 0., 0., 0., 0.,\n",
       "        0., 0., 0., 0., 0., 0., 0., 0., 0., 0., 0., 0., 0., 0., 0., 0., 0.,\n",
       "        0., 0., 0., 0., 0., 0., 0., 0., 0., 0., 0., 0., 0., 0., 0., 0., 0.,\n",
       "        0., 0., 0., 0., 0., 0., 0., 0., 0., 0., 0., 0., 0., 0., 0., 0., 0.,\n",
       "        0., 0., 0., 0., 0., 0., 0., 0., 0., 0., 0., 0., 0., 0., 0., 0., 0.,\n",
       "        0., 0., 0., 0., 0., 0., 0., 0., 0., 0., 0., 0., 0., 0., 0., 0., 0.,\n",
       "        0., 0., 0., 0., 0., 0., 0., 0., 0., 0., 0., 0., 0., 0., 0., 0., 0.,\n",
       "        0., 0., 0., 0., 0., 0., 0., 0., 0., 0., 0., 0., 0., 0., 0., 0., 0.,\n",
       "        0., 0., 0., 0., 0., 0., 0., 0., 0., 0., 0., 0., 0., 0., 0., 0., 0.,\n",
       "        0., 0., 0., 0., 0., 0., 0., 0., 0., 0., 0., 0., 0., 0., 0., 0., 0.,\n",
       "        0., 0., 0., 0., 0., 0., 0., 0., 0., 0., 0., 0., 0., 0., 0., 0., 0.,\n",
       "        0., 0., 0., 0., 0., 0., 0., 0., 0., 0., 0., 0., 0., 0., 0., 0., 0.,\n",
       "        0., 0., 0., 0., 0., 0., 0., 0., 0., 0., 0., 0., 0., 0., 0., 0., 0.,\n",
       "        0., 0., 0., 0., 0., 0., 0., 0., 0., 0., 0., 0., 0., 0., 0., 0., 0.,\n",
       "        0., 0.]),\n",
       " array([4.52292391e-01, 4.38726647e-01, 3.14361380e-01, 2.25249771e-01,\n",
       "        1.61398514e-01, 1.15647089e-01, 8.28647600e-02, 5.93751951e-02,\n",
       "        4.25441864e-02, 3.04842416e-02, 2.18429136e-02, 1.56511315e-02,\n",
       "        1.12145258e-02, 8.03555885e-03, 5.75772951e-03, 4.12559347e-03,\n",
       "        2.95611690e-03, 2.11815031e-03, 1.51772102e-03, 1.08749463e-03,\n",
       "        7.79223954e-04, 5.58338361e-04, 4.00066918e-04, 2.86660473e-04,\n",
       "        2.05401204e-04, 1.47176394e-04, 1.05456495e-04, 7.55628802e-05,\n",
       "        5.41431696e-05, 3.87952763e-05, 2.77980302e-05, 1.99181590e-05,\n",
       "        1.42719846e-05, 1.02263238e-05, 7.32748119e-06, 5.25036970e-06,\n",
       "        3.76205428e-06, 2.69562969e-06, 1.93150307e-06, 1.38398243e-06,\n",
       "        9.91666743e-07, 7.10560271e-07, 5.09138682e-07, 3.64813807e-07,\n",
       "        2.61400515e-07, 1.87301654e-07, 1.34207500e-07, 9.61638755e-08,\n",
       "        6.89044278e-08, 4.93721799e-08, 3.53767128e-08, 2.53485224e-08,\n",
       "        1.81630100e-08, 1.30143653e-08, 9.32520025e-09, 6.68179795e-09,\n",
       "        4.78771745e-09, 3.43054946e-09, 2.45809610e-09, 1.76130282e-09,\n",
       "        1.26202862e-09, 9.04283019e-10, 6.47947097e-10, 4.64274382e-10,\n",
       "        3.32667132e-10, 2.38366416e-10, 1.70797000e-10, 1.22381398e-10,\n",
       "        8.76901038e-11, 6.28327050e-11, 4.50216005e-11, 3.22593864e-11,\n",
       "        2.31148604e-11, 1.65625212e-11, 1.18675650e-11, 8.50348193e-12,\n",
       "        6.09301105e-12, 4.36583319e-12, 3.12825618e-12, 2.24149350e-12,\n",
       "        1.60610028e-12, 1.15082114e-12, 8.24599376e-13, 5.90851272e-13,\n",
       "        4.23363436e-13, 3.03353158e-13, 2.17362036e-13, 1.55746704e-13,\n",
       "        1.11597390e-13, 7.99630242e-14, 5.72960106e-14, 4.10543855e-14,\n",
       "        2.94167527e-14, 2.10780243e-14, 1.51030644e-14, 1.08218185e-14,\n",
       "        7.75417182e-15, 5.55610689e-15, 3.98112455e-15, 2.85260039e-15,\n",
       "        2.04397750e-15, 1.46457388e-15, 1.04941304e-15, 7.51937300e-16,\n",
       "        5.38786619e-16, 3.86057482e-16, 2.76622274e-16, 1.98208520e-16,\n",
       "        1.42022611e-16, 1.01763648e-16, 7.29168397e-17, 5.22471987e-17,\n",
       "        3.74367538e-17, 2.68246062e-17, 1.92206703e-17, 1.37722121e-17,\n",
       "        9.86822116e-18, 7.07088944e-18, 5.06651368e-18, 3.63031568e-18,\n",
       "        2.60123485e-18, 1.86386622e-18, 1.33551851e-18, 9.56940825e-19,\n",
       "        6.85678063e-19, 4.91309801e-19, 3.52038856e-19, 2.52246863e-19,\n",
       "        1.80742775e-19, 1.29507858e-19, 9.27964349e-20, 6.64915511e-20,\n",
       "        4.76432783e-20, 3.41379006e-20, 2.44608747e-20, 1.75269826e-20,\n",
       "        1.25586318e-20, 8.99865290e-21, 6.44781656e-21, 4.62006245e-21,\n",
       "        3.31041940e-21, 2.37201915e-21, 1.69962599e-21, 1.21783524e-21,\n",
       "        8.72617080e-22, 6.25257460e-22, 4.48016547e-22, 3.21017884e-22,\n",
       "        2.30019365e-22, 1.64816077e-22, 1.18095880e-22, 8.46193955e-23,\n",
       "        6.06324463e-23, 4.34450462e-23, 3.11297359e-23, 2.23054305e-23,\n",
       "        1.59825393e-23, 1.14519899e-23, 8.20570930e-24, 5.87964764e-24,\n",
       "        4.21295163e-24, 3.01871175e-24, 2.16300149e-24, 1.54985829e-24,\n",
       "        1.11052199e-24, 7.95723778e-25, 5.70161002e-25, 4.08538210e-25,\n",
       "        2.92730419e-25, 2.09750511e-25, 1.50292808e-25, 1.07689503e-25,\n",
       "        7.71629007e-26, 5.52896343e-26, 3.96167542e-26, 2.83866448e-26,\n",
       "        2.03399198e-26, 1.45741894e-26, 1.04428630e-26, 7.48263832e-27,\n",
       "        5.36154464e-27, 3.84171461e-27, 2.75270880e-27, 1.97240205e-27,\n",
       "        1.41328782e-27, 1.01266498e-27, 7.25606163e-28, 5.19919535e-28,\n",
       "        3.72538626e-28, 2.66935590e-28, 1.91267708e-28, 1.37049301e-28,\n",
       "        9.82001156e-29, 7.03634575e-29, 5.04176204e-29, 3.61258036e-29,\n",
       "        2.58852694e-29, 1.85476060e-29, 1.32899405e-29, 9.52265845e-30,\n",
       "        6.82328294e-30, 4.88909587e-30, 3.50319027e-30, 2.51014552e-30,\n",
       "        1.79859786e-30, 1.28875168e-30, 9.23430929e-31, 6.61667174e-31,\n",
       "        4.74105247e-31, 3.39711254e-31, 2.43413750e-31, 1.74413573e-31,\n",
       "        1.24972786e-31, 8.95469144e-32, 6.41631679e-32, 4.59749188e-32,\n",
       "        3.29424688e-32, 2.36043104e-32, 1.69132274e-32, 1.21188570e-32,\n",
       "        8.68354051e-33, 6.22202866e-33, 4.45827835e-33, 3.19449603e-33,\n",
       "        2.28895643e-33, 1.64010895e-33, 1.17518941e-33, 8.42060011e-34,\n",
       "        6.03362363e-34, 4.32328025e-34, 3.09776566e-34, 2.21964609e-34,\n",
       "        1.59044592e-34, 1.13960430e-34, 8.16562163e-35, 5.85092357e-35,\n",
       "        4.19236993e-35, 3.00396432e-35, 2.15243449e-35, 1.54228671e-35,\n",
       "        1.10509672e-35, 7.91836399e-36, 5.67375572e-36, 4.06542362e-36,\n",
       "        2.91300332e-36, 2.08725809e-36, 1.49558577e-36, 1.07163403e-36,\n",
       "        7.67859338e-37, 5.50195258e-37, 3.94232129e-37, 2.82479664e-37,\n",
       "        2.02405524e-37, 1.45029895e-37, 1.03918461e-37, 7.44608310e-38,\n",
       "        5.33535169e-38, 3.82294654e-38, 2.73926089e-38, 1.96276620e-38,\n",
       "        1.40638344e-38, 1.00771777e-38, 7.22061332e-39, 5.17379552e-39,\n",
       "        3.70718649e-39, 2.65631519e-39, 1.90333301e-39, 1.36379769e-39,\n",
       "        9.77203748e-40, 7.00197082e-40, 5.01713133e-40, 3.59493169e-40,\n",
       "        2.57588111e-40, 1.84569947e-40, 1.32250146e-40, 9.47613705e-41,\n",
       "        6.78994890e-41, 4.86521098e-41, 3.48607600e-41, 2.49788261e-41,\n",
       "        1.78981110e-41, 1.28245569e-41, 9.18919657e-42, 6.58434706e-42,\n",
       "        4.71789083e-42, 3.38051650e-42, 2.42224592e-42, 1.73561504e-42,\n",
       "        1.24362252e-42, 8.91094475e-43, 6.38497092e-43, 4.57503158e-43,\n",
       "        3.27815337e-43, 2.34889953e-43, 1.68306006e-43, 1.20596523e-43,\n",
       "        8.64111848e-44, 6.19163195e-44, 4.43649815e-44, 3.17888984e-44,\n",
       "        2.27777410e-44, 1.63209646e-44, 1.16944822e-44, 8.37946263e-45,\n",
       "        6.00414734e-45, 4.30215956e-45, 3.08263203e-45, 2.20880237e-45,\n",
       "        1.58267606e-45, 1.13403695e-45, 8.12572981e-46, 5.82233983e-46,\n",
       "        4.17188879e-46, 2.98928894e-46, 2.14191912e-46, 1.53475212e-46,\n",
       "        1.09969795e-46, 7.87968010e-47, 5.64603751e-47, 4.04556266e-47,\n",
       "        2.89877231e-47, 2.07706112e-47, 1.48827933e-47, 1.06639874e-47,\n",
       "        7.64108085e-48, 5.47507368e-48, 3.92306172e-48, 2.81099655e-48,\n",
       "        2.01416705e-48, 1.44321375e-48, 1.03410784e-48, 7.40970647e-49,\n",
       "        5.30928669e-49, 3.80427015e-49, 2.72587868e-49, 1.95317742e-49,\n",
       "        1.39951278e-49, 1.00279472e-49, 7.18533818e-50, 5.14851978e-50,\n",
       "        3.68907563e-50, 2.64333819e-50, 1.89403458e-50, 1.35713508e-50,\n",
       "        9.72429777e-51, 6.96776383e-51, 4.99262095e-51, 3.57736923e-51,\n",
       "        2.56329706e-51, 1.83668260e-51, 1.31604059e-51, 9.42984291e-52,\n",
       "        6.75677770e-52, 4.84144278e-52, 3.46904534e-52, 2.48567960e-52,\n",
       "        1.78106726e-52, 1.27619046e-52, 9.14430424e-53, 6.55218030e-53,\n",
       "        4.69484234e-53, 3.36400153e-53, 2.41041243e-53, 1.72713598e-53,\n",
       "        1.23754700e-53, 8.86741177e-54, 6.35377818e-54, 4.55268100e-54,\n",
       "        3.26213849e-54, 2.33742436e-54, 1.67483774e-54, 1.20007368e-54,\n",
       "        8.59890369e-55, 6.16138373e-55, 4.41482436e-55, 3.16335988e-55,\n",
       "        2.26664640e-55, 1.62412312e-55, 1.16373507e-55, 8.33852612e-56,\n",
       "        5.97481505e-56, 4.28114206e-56, 3.06757233e-56, 2.19801162e-56,\n",
       "        1.57494415e-56, 1.12849679e-56, 8.08603287e-57, 5.79389573e-57,\n",
       "        4.15150770e-57, 2.97468525e-57, 2.13145512e-57, 1.52725433e-57,\n",
       "        1.09432555e-57, 7.84118520e-58, 5.61845471e-58, 4.02579871e-58,\n",
       "        2.88461083e-58, 2.06691398e-58, 1.48100858e-58, 1.06118902e-58,\n",
       "        7.60375159e-59, 5.44832609e-59, 3.90389624e-59, 2.79726389e-59,\n",
       "        2.00432716e-59, 1.43616317e-59, 1.02905588e-59, 7.37350755e-60,\n",
       "        5.28334903e-60, 3.78568500e-60, 2.71256184e-60, 1.94363549e-60,\n",
       "        1.39267568e-60, 9.97895733e-61, 7.15023537e-61, 5.12336752e-61,\n",
       "        3.67105324e-61, 2.63042459e-61, 1.88478158e-61, 1.35050502e-61,\n",
       "        9.67679129e-62, 6.93372395e-62, 4.96823031e-62, 3.55989257e-62,\n",
       "        2.55077449e-62, 1.82770979e-62, 1.30961129e-62, 9.38377494e-63,\n",
       "        6.72376856e-63, 4.81779070e-63, 3.45209788e-63, 2.47353622e-63,\n",
       "        1.77236615e-63, 1.26995584e-63, 9.09963122e-64, 6.52017068e-64,\n",
       "        4.67190645e-64, 3.34756725e-64, 2.39863675e-64, 1.71869833e-64,\n",
       "        1.23150117e-64, 8.82409146e-65, 6.32273782e-65, 4.53043962e-65,\n",
       "        3.24620184e-65, 2.32600526e-65, 1.66665559e-65, 1.19421092e-65,\n",
       "        8.55689514e-66, 6.13128329e-66, 4.39325645e-66, 3.14790580e-66,\n",
       "        2.25557307e-66, 1.61618873e-66, 1.15804983e-66, 8.29778960e-67,\n",
       "        5.94562606e-67, 4.26022723e-67, 3.05258620e-67, 2.18727359e-67,\n",
       "        1.56725001e-67, 1.12298371e-67, 8.04652987e-68, 5.76559059e-68,\n",
       "        4.13122618e-68, 2.96015291e-68, 2.12104224e-68, 1.51979318e-68,\n",
       "        1.08897940e-68, 7.80287836e-69, 5.59100666e-69, 4.00613133e-69,\n",
       "        2.87051853e-69, 2.05681640e-69, 1.47377335e-69, 1.05600475e-69,\n",
       "        7.56660469e-70, 5.42170918e-70, 3.88482438e-70, 2.78359831e-70,\n",
       "        1.99453534e-70, 1.42914702e-70, 1.02402859e-70, 7.33748547e-71,\n",
       "        5.25753808e-71, 3.76719065e-71, 2.69931005e-71, 1.93414017e-71,\n",
       "        1.38587199e-71, 9.93020675e-72, 7.11530405e-72, 5.09833814e-72,\n",
       "        3.65311891e-72, 2.61757408e-72, 1.87557379e-72, 1.34390734e-72,\n",
       "        9.62951689e-73, 6.89985036e-73, 4.94395882e-73, 3.54250129e-73,\n",
       "        2.53831309e-73, 1.81878081e-73, 1.30321340e-73, 9.33793203e-74,\n",
       "        6.69092067e-74, 4.79425416e-74, 3.43523322e-74, 2.46145216e-74,\n",
       "        1.76370754e-74, 1.26375168e-74, 9.05517645e-75, 6.48831745e-75]),\n",
       " array([0., 0., 0., 0., 0., 0., 0., 0., 0., 0., 0., 0., 0., 0., 0., 0., 0.,\n",
       "        0., 0., 0., 0., 0., 0., 0., 0., 0., 0., 0., 0., 0., 0., 0., 0., 0.,\n",
       "        0., 0., 0., 0., 0., 0., 0., 0., 0., 0., 0., 0., 0., 0., 0., 0., 0.,\n",
       "        0., 0., 0., 0., 0., 0., 0., 0., 0., 0., 0., 0., 0., 0., 0., 0., 0.,\n",
       "        0., 0., 0., 0., 0., 0., 0., 0., 0., 0., 0., 0., 0., 0., 0., 0., 0.,\n",
       "        0., 0., 0., 0., 0., 0., 0., 0., 0., 0., 0., 0., 0., 0., 0., 0., 0.,\n",
       "        0., 0., 0., 0., 0., 0., 0., 0., 0., 0., 0., 0., 0., 0., 0., 0., 0.,\n",
       "        0., 0., 0., 0., 0., 0., 0., 0., 0., 0., 0., 0., 0., 0., 0., 0., 0.,\n",
       "        0., 0., 0., 0., 0., 0., 0., 0., 0., 0., 0., 0., 0., 0., 0., 0., 0.,\n",
       "        0., 0., 0., 0., 0., 0., 0., 0., 0., 0., 0., 0., 0., 0., 0., 0., 0.,\n",
       "        0., 0., 0., 0., 0., 0., 0., 0., 0., 0., 0., 0., 0., 0., 0., 0., 0.,\n",
       "        0., 0., 0., 0., 0., 0., 0., 0., 0., 0., 0., 0., 0., 0., 0., 0., 0.,\n",
       "        0., 0., 0., 0., 0., 0., 0., 0., 0., 0., 0., 0., 0., 0., 0., 0., 0.,\n",
       "        0., 0., 0., 0., 0., 0., 0., 0., 0., 0., 0., 0., 0., 0., 0., 0., 0.,\n",
       "        0., 0., 0., 0., 0., 0., 0., 0., 0., 0., 0., 0., 0., 0., 0., 0., 0.,\n",
       "        0., 0., 0., 0., 0., 0., 0., 0., 0., 0., 0., 0., 0., 0., 0., 0., 0.,\n",
       "        0., 0., 0., 0., 0., 0., 0., 0., 0., 0., 0., 0., 0., 0., 0., 0., 0.,\n",
       "        0., 0., 0., 0., 0., 0., 0., 0., 0., 0., 0., 0., 0., 0., 0., 0., 0.,\n",
       "        0., 0., 0., 0., 0., 0., 0., 0., 0., 0., 0., 0., 0., 0., 0., 0., 0.,\n",
       "        0., 0., 0., 0., 0., 0., 0., 0., 0., 0., 0., 0., 0., 0., 0., 0., 0.,\n",
       "        0., 0., 0., 0., 0., 0., 0., 0., 0., 0., 0., 0., 0., 0., 0., 0., 0.,\n",
       "        0., 0., 0., 0., 0., 0., 0., 0., 0., 0., 0., 0., 0., 0., 0., 0., 0.,\n",
       "        0., 0., 0., 0., 0., 0., 0., 0., 0., 0., 0., 0., 0., 0., 0., 0., 0.,\n",
       "        0., 0., 0., 0., 0., 0., 0., 0., 0., 0., 0., 0., 0., 0., 0., 0., 0.,\n",
       "        0., 0., 0., 0., 0., 0., 0., 0., 0., 0., 0., 0., 0., 0., 0., 0., 0.,\n",
       "        0., 0., 0., 0., 0., 0., 0., 0., 0., 0., 0., 0., 0., 0., 0., 0., 0.,\n",
       "        0., 0., 0., 0., 0., 0., 0., 0., 0., 0., 0., 0., 0., 0., 0., 0., 0.,\n",
       "        0., 0., 0., 0., 0., 0., 0., 0., 0., 0., 0., 0., 0., 0., 0., 0., 0.,\n",
       "        0., 0., 0., 0., 0., 0., 0., 0., 0., 0., 0., 0., 0., 0., 0., 0., 0.,\n",
       "        0., 0., 0., 0., 0., 0., 0., 0., 0., 0., 0., 0., 0., 0., 0., 0., 0.,\n",
       "        0., 0.]),\n",
       " array([0., 0., 0., 0., 0., 0., 0., 0., 0., 0., 0., 0., 0., 0., 0., 0., 0.,\n",
       "        0., 0., 0., 0., 0., 0., 0., 0., 0., 0., 0., 0., 0., 0., 0., 0., 0.,\n",
       "        0., 0., 0., 0., 0., 0., 0., 0., 0., 0., 0., 0., 0., 0., 0., 0., 0.,\n",
       "        0., 0., 0., 0., 0., 0., 0., 0., 0., 0., 0., 0., 0., 0., 0., 0., 0.,\n",
       "        0., 0., 0., 0., 0., 0., 0., 0., 0., 0., 0., 0., 0., 0., 0., 0., 0.,\n",
       "        0., 0., 0., 0., 0., 0., 0., 0., 0., 0., 0., 0., 0., 0., 0., 0., 0.,\n",
       "        0., 0., 0., 0., 0., 0., 0., 0., 0., 0., 0., 0., 0., 0., 0., 0., 0.,\n",
       "        0., 0., 0., 0., 0., 0., 0., 0., 0., 0., 0., 0., 0., 0., 0., 0., 0.,\n",
       "        0., 0., 0., 0., 0., 0., 0., 0., 0., 0., 0., 0., 0., 0., 0., 0., 0.,\n",
       "        0., 0., 0., 0., 0., 0., 0., 0., 0., 0., 0., 0., 0., 0., 0., 0., 0.,\n",
       "        0., 0., 0., 0., 0., 0., 0., 0., 0., 0., 0., 0., 0., 0., 0., 0., 0.,\n",
       "        0., 0., 0., 0., 0., 0., 0., 0., 0., 0., 0., 0., 0., 0., 0., 0., 0.,\n",
       "        0., 0., 0., 0., 0., 0., 0., 0., 0., 0., 0., 0., 0., 0., 0., 0., 0.,\n",
       "        0., 0., 0., 0., 0., 0., 0., 0., 0., 0., 0., 0., 0., 0., 0., 0., 0.,\n",
       "        0., 0., 0., 0., 0., 0., 0., 0., 0., 0., 0., 0., 0., 0., 0., 0., 0.,\n",
       "        0., 0., 0., 0., 0., 0., 0., 0., 0., 0., 0., 0., 0., 0., 0., 0., 0.,\n",
       "        0., 0., 0., 0., 0., 0., 0., 0., 0., 0., 0., 0., 0., 0., 0., 0., 0.,\n",
       "        0., 0., 0., 0., 0., 0., 0., 0., 0., 0., 0., 0., 0., 0., 0., 0., 0.,\n",
       "        0., 0., 0., 0., 0., 0., 0., 0., 0., 0., 0., 0., 0., 0., 0., 0., 0.,\n",
       "        0., 0., 0., 0., 0., 0., 0., 0., 0., 0., 0., 0., 0., 0., 0., 0., 0.,\n",
       "        0., 0., 0., 0., 0., 0., 0., 0., 0., 0., 0., 0., 0., 0., 0., 0., 0.,\n",
       "        0., 0., 0., 0., 0., 0., 0., 0., 0., 0., 0., 0., 0., 0., 0., 0., 0.,\n",
       "        0., 0., 0., 0., 0., 0., 0., 0., 0., 0., 0., 0., 0., 0., 0., 0., 0.,\n",
       "        0., 0., 0., 0., 0., 0., 0., 0., 0., 0., 0., 0., 0., 0., 0., 0., 0.,\n",
       "        0., 0., 0., 0., 0., 0., 0., 0., 0., 0., 0., 0., 0., 0., 0., 0., 0.,\n",
       "        0., 0., 0., 0., 0., 0., 0., 0., 0., 0., 0., 0., 0., 0., 0., 0., 0.,\n",
       "        0., 0., 0., 0., 0., 0., 0., 0., 0., 0., 0., 0., 0., 0., 0., 0., 0.,\n",
       "        0., 0., 0., 0., 0., 0., 0., 0., 0., 0., 0., 0., 0., 0., 0., 0., 0.,\n",
       "        0., 0., 0., 0., 0., 0., 0., 0., 0., 0., 0., 0., 0., 0., 0., 0., 0.,\n",
       "        0., 0., 0., 0., 0., 0., 0., 0., 0., 0., 0., 0., 0., 0., 0., 0., 0.,\n",
       "        0., 0.]),\n",
       " array([0., 0., 0., 0., 0., 0., 0., 0., 0., 0., 0., 0., 0., 0., 0., 0., 0.,\n",
       "        0., 0., 0., 0., 0., 0., 0., 0., 0., 0., 0., 0., 0., 0., 0., 0., 0.,\n",
       "        0., 0., 0., 0., 0., 0., 0., 0., 0., 0., 0., 0., 0., 0., 0., 0., 0.,\n",
       "        0., 0., 0., 0., 0., 0., 0., 0., 0., 0., 0., 0., 0., 0., 0., 0., 0.,\n",
       "        0., 0., 0., 0., 0., 0., 0., 0., 0., 0., 0., 0., 0., 0., 0., 0., 0.,\n",
       "        0., 0., 0., 0., 0., 0., 0., 0., 0., 0., 0., 0., 0., 0., 0., 0., 0.,\n",
       "        0., 0., 0., 0., 0., 0., 0., 0., 0., 0., 0., 0., 0., 0., 0., 0., 0.,\n",
       "        0., 0., 0., 0., 0., 0., 0., 0., 0., 0., 0., 0., 0., 0., 0., 0., 0.,\n",
       "        0., 0., 0., 0., 0., 0., 0., 0., 0., 0., 0., 0., 0., 0., 0., 0., 0.,\n",
       "        0., 0., 0., 0., 0., 0., 0., 0., 0., 0., 0., 0., 0., 0., 0., 0., 0.,\n",
       "        0., 0., 0., 0., 0., 0., 0., 0., 0., 0., 0., 0., 0., 0., 0., 0., 0.,\n",
       "        0., 0., 0., 0., 0., 0., 0., 0., 0., 0., 0., 0., 0., 0., 0., 0., 0.,\n",
       "        0., 0., 0., 0., 0., 0., 0., 0., 0., 0., 0., 0., 0., 0., 0., 0., 0.,\n",
       "        0., 0., 0., 0., 0., 0., 0., 0., 0., 0., 0., 0., 0., 0., 0., 0., 0.,\n",
       "        0., 0., 0., 0., 0., 0., 0., 0., 0., 0., 0., 0., 0., 0., 0., 0., 0.,\n",
       "        0., 0., 0., 0., 0., 0., 0., 0., 0., 0., 0., 0., 0., 0., 0., 0., 0.,\n",
       "        0., 0., 0., 0., 0., 0., 0., 0., 0., 0., 0., 0., 0., 0., 0., 0., 0.,\n",
       "        0., 0., 0., 0., 0., 0., 0., 0., 0., 0., 0., 0., 0., 0., 0., 0., 0.,\n",
       "        0., 0., 0., 0., 0., 0., 0., 0., 0., 0., 0., 0., 0., 0., 0., 0., 0.,\n",
       "        0., 0., 0., 0., 0., 0., 0., 0., 0., 0., 0., 0., 0., 0., 0., 0., 0.,\n",
       "        0., 0., 0., 0., 0., 0., 0., 0., 0., 0., 0., 0., 0., 0., 0., 0., 0.,\n",
       "        0., 0., 0., 0., 0., 0., 0., 0., 0., 0., 0., 0., 0., 0., 0., 0., 0.,\n",
       "        0., 0., 0., 0., 0., 0., 0., 0., 0., 0., 0., 0., 0., 0., 0., 0., 0.,\n",
       "        0., 0., 0., 0., 0., 0., 0., 0., 0., 0., 0., 0., 0., 0., 0., 0., 0.,\n",
       "        0., 0., 0., 0., 0., 0., 0., 0., 0., 0., 0., 0., 0., 0., 0., 0., 0.,\n",
       "        0., 0., 0., 0., 0., 0., 0., 0., 0., 0., 0., 0., 0., 0., 0., 0., 0.,\n",
       "        0., 0., 0., 0., 0., 0., 0., 0., 0., 0., 0., 0., 0., 0., 0., 0., 0.,\n",
       "        0., 0., 0., 0., 0., 0., 0., 0., 0., 0., 0., 0., 0., 0., 0., 0., 0.,\n",
       "        0., 0., 0., 0., 0., 0., 0., 0., 0., 0., 0., 0., 0., 0., 0., 0., 0.,\n",
       "        0., 0., 0., 0., 0., 0., 0., 0., 0., 0., 0., 0., 0., 0., 0., 0., 0.,\n",
       "        0., 0.])]"
      ]
     },
     "execution_count": 3339,
     "metadata": {},
     "output_type": "execute_result"
    }
   ],
   "source": [
    "np.split(np.concatenate(inp, axis=1).T.ravel(), 6, axis=0)"
   ]
  },
  {
   "cell_type": "code",
   "execution_count": 3332,
   "id": "6a09bf36-b19d-49a9-952b-a04cecf146b4",
   "metadata": {
    "tags": []
   },
   "outputs": [
    {
     "data": {
      "text/plain": [
       "array([ True,  True,  True, ...,  True,  True,  True])"
      ]
     },
     "execution_count": 3332,
     "metadata": {},
     "output_type": "execute_result"
    }
   ],
   "source": [
    "np.concatenate(inp, axis=1).T.ravel() == ainp.ravel()"
   ]
  },
  {
   "cell_type": "code",
   "execution_count": 3329,
   "id": "cccb3ca5-fe81-48ba-8348-53ffdbc0ca22",
   "metadata": {
    "tags": []
   },
   "outputs": [
    {
     "data": {
      "text/plain": [
       "array([1., 1., 0., ..., 0., 0., 0.])"
      ]
     },
     "execution_count": 3329,
     "metadata": {},
     "output_type": "execute_result"
    }
   ],
   "source": [
    "ainp.ravel()"
   ]
  },
  {
   "cell_type": "code",
   "execution_count": 3341,
   "id": "12d90847-d5e5-4603-b383-c0562bb70c24",
   "metadata": {
    "tags": []
   },
   "outputs": [
    {
     "name": "stderr",
     "output_type": "stream",
     "text": [
      "/tmp/ipykernel_377755/968931468.py:3: RuntimeWarning: overflow encountered in exp\n",
      "  param.F = lambda x: 1/(1 + np.exp(-50000 * x))\n"
     ]
    }
   ],
   "source": [
    "ainp = np.concatenate(inp)\n",
    "ret = scint.solve_ivp(derivative, (0, 500), ainp[:,0], args=(param.size,))"
   ]
  },
  {
   "cell_type": "code",
   "execution_count": 3347,
   "id": "13abb7a2-fd49-4168-a64b-8a30dae31dea",
   "metadata": {
    "tags": []
   },
   "outputs": [
    {
     "data": {
      "text/plain": [
       "True"
      ]
     },
     "execution_count": 3347,
     "metadata": {},
     "output_type": "execute_result"
    }
   ],
   "source": [
    "(ret.y.T[0] == ainp.ravel()).all()"
   ]
  },
  {
   "cell_type": "code",
   "execution_count": 3287,
   "id": "eede8b8c-f8a0-4ce2-ad0c-45787a1415bf",
   "metadata": {
    "tags": []
   },
   "outputs": [],
   "source": [
    "nice_out = np.split(ret.y.T, 6,axis=1)"
   ]
  },
  {
   "cell_type": "code",
   "execution_count": 3350,
   "id": "a6216e15-3105-46a1-bec0-e7960e6205f7",
   "metadata": {
    "tags": []
   },
   "outputs": [
    {
     "data": {
      "text/plain": [
       "(6, 48247, 512)"
      ]
     },
     "execution_count": 3350,
     "metadata": {},
     "output_type": "execute_result"
    }
   ],
   "source": [
    "np.array(nice_out).shape"
   ]
  },
  {
   "cell_type": "code",
   "execution_count": 3288,
   "id": "d8c14590-93d8-4205-a0cc-172e4f64f159",
   "metadata": {
    "tags": []
   },
   "outputs": [],
   "source": [
    "# ix = 10\n",
    "# inner = nice_out[2][ix] - 1.5*nice_out[1][ix] - param.Θ[0]\n",
    "# param.F(inner)"
   ]
  },
  {
   "cell_type": "code",
   "execution_count": 3351,
   "id": "a1c7f299-f399-48e0-bd98-24cffe04662f",
   "metadata": {
    "tags": []
   },
   "outputs": [
    {
     "data": {
      "text/plain": [
       "<matplotlib.image.AxesImage at 0x7fef31c15fc0>"
      ]
     },
     "execution_count": 3351,
     "metadata": {},
     "output_type": "execute_result"
    },
    {
     "data": {
      "image/png": "[encoded data removed]",
      "text/plain": [
       "<Figure size 640x480 with 1 Axes>"
      ]
     },
     "metadata": {},
     "output_type": "display_data"
    }
   ],
   "source": [
    "plt.imshow(nice_out[0].T[::-1], vmin=0, vmax=1)"
   ]
  },
  {
   "cell_type": "code",
   "execution_count": 3290,
   "id": "08380a72-1e9f-4083-a4e3-3ed19f604945",
   "metadata": {
    "tags": []
   },
   "outputs": [
    {
     "data": {
      "text/plain": [
       "<matplotlib.image.AxesImage at 0x7fef31e55c30>"
      ]
     },
     "execution_count": 3290,
     "metadata": {},
     "output_type": "execute_result"
    },
    {
     "data": {
      "image/png": "[encoded data removed]",
      "text/plain": [
       "<Figure size 640x480 with 1 Axes>"
      ]
     },
     "metadata": {},
     "output_type": "display_data"
    }
   ],
   "source": [
    "plt.imshow(nice_out[0].T[::-1], vmin=0, vmax=1)"
   ]
  },
  {
   "cell_type": "code",
   "execution_count": 3282,
   "id": "ab2ed0d6-55ab-427f-bcd2-48c0e5b9d428",
   "metadata": {
    "tags": []
   },
   "outputs": [
    {
     "data": {
      "image/png": "[encoded data removed]",
      "text/plain": [
       "<Figure size 640x480 with 1 Axes>"
      ]
     },
     "metadata": {},
     "output_type": "display_data"
    }
   ],
   "source": [
    "_=plt.plot(ret.t, nice_out[1])"
   ]
  },
  {
   "cell_type": "code",
   "execution_count": 3273,
   "id": "88b0e093-2bee-41fd-a503-6c59830aef2a",
   "metadata": {
    "tags": []
   },
   "outputs": [
    {
     "data": {
      "image/png": "[encoded data removed]",
      "text/plain": [
       "<Figure size 640x480 with 1 Axes>"
      ]
     },
     "metadata": {},
     "output_type": "display_data"
    }
   ],
   "source": [
    "_ = plt.plot(nice_out[0], nice_out[1])"
   ]
  },
  {
   "cell_type": "code",
   "execution_count": null,
   "id": "430c32cf-c231-4fc0-9232-044493abc33f",
   "metadata": {},
   "outputs": [],
   "source": []
  },
  {
   "cell_type": "code",
   "execution_count": 2316,
   "id": "542b8d80-8370-4c83-8cb7-fe7c67802f9a",
   "metadata": {
    "tags": []
   },
   "outputs": [
    {
     "ename": "AttributeError",
     "evalue": "u",
     "output_type": "error",
     "traceback": [
      "\u001b[0;31m---------------------------------------------------------------------------\u001b[0m",
      "\u001b[0;31mKeyError\u001b[0m                                  Traceback (most recent call last)",
      "File \u001b[0;32m~/.local/share/virtualenvs/py_projs-iE7mgdXD/lib/python3.10/site-packages/scipy/optimize/_optimize.py:174\u001b[0m, in \u001b[0;36mOptimizeResult.__getattr__\u001b[0;34m(self, name)\u001b[0m\n\u001b[1;32m    173\u001b[0m \u001b[38;5;28;01mtry\u001b[39;00m:\n\u001b[0;32m--> 174\u001b[0m     \u001b[38;5;28;01mreturn\u001b[39;00m \u001b[38;5;28;43mself\u001b[39;49m\u001b[43m[\u001b[49m\u001b[43mname\u001b[49m\u001b[43m]\u001b[49m\n\u001b[1;32m    175\u001b[0m \u001b[38;5;28;01mexcept\u001b[39;00m \u001b[38;5;167;01mKeyError\u001b[39;00m \u001b[38;5;28;01mas\u001b[39;00m e:\n",
      "\u001b[0;31mKeyError\u001b[0m: 'u'",
      "\nThe above exception was the direct cause of the following exception:\n",
      "\u001b[0;31mAttributeError\u001b[0m                            Traceback (most recent call last)",
      "Cell \u001b[0;32mIn[2316], line 1\u001b[0m\n\u001b[0;32m----> 1\u001b[0m _ \u001b[38;5;241m=\u001b[39m plt\u001b[38;5;241m.\u001b[39mplot(np\u001b[38;5;241m.\u001b[39mconcatenate(\u001b[43mret\u001b[49m\u001b[38;5;241;43m.\u001b[39;49m\u001b[43mu\u001b[49m[:\u001b[38;5;241m-\u001b[39m\u001b[38;5;241m1\u001b[39m], axis\u001b[38;5;241m=\u001b[39m\u001b[38;5;241m1\u001b[39m)\u001b[38;5;241m.\u001b[39mT, np\u001b[38;5;241m.\u001b[39mconcatenate(ret\u001b[38;5;241m.\u001b[39mv[:\u001b[38;5;241m-\u001b[39m\u001b[38;5;241m1\u001b[39m], axis\u001b[38;5;241m=\u001b[39m\u001b[38;5;241m1\u001b[39m)\u001b[38;5;241m.\u001b[39mT)\n",
      "File \u001b[0;32m~/.local/share/virtualenvs/py_projs-iE7mgdXD/lib/python3.10/site-packages/scipy/optimize/_optimize.py:176\u001b[0m, in \u001b[0;36mOptimizeResult.__getattr__\u001b[0;34m(self, name)\u001b[0m\n\u001b[1;32m    174\u001b[0m     \u001b[38;5;28;01mreturn\u001b[39;00m \u001b[38;5;28mself\u001b[39m[name]\n\u001b[1;32m    175\u001b[0m \u001b[38;5;28;01mexcept\u001b[39;00m \u001b[38;5;167;01mKeyError\u001b[39;00m \u001b[38;5;28;01mas\u001b[39;00m e:\n\u001b[0;32m--> 176\u001b[0m     \u001b[38;5;28;01mraise\u001b[39;00m \u001b[38;5;167;01mAttributeError\u001b[39;00m(name) \u001b[38;5;28;01mfrom\u001b[39;00m \u001b[38;5;21;01me\u001b[39;00m\n",
      "\u001b[0;31mAttributeError\u001b[0m: u"
     ]
    }
   ],
   "source": [
    "_ = plt.plot(np.concatenate(ret.u[:-1], axis=1).T, np.concatenate(ret.v[:-1], axis=1).T)"
   ]
  },
  {
   "cell_type": "code",
   "execution_count": 1545,
   "id": "549419a7-0db9-432d-b8c2-ef97bc98657b",
   "metadata": {
    "tags": []
   },
   "outputs": [],
   "source": [
    "def test_derv(t, inp):\n",
    "    return tuple(-0.5 * i for i in inp)"
   ]
  },
  {
   "cell_type": "code",
   "execution_count": 154,
   "id": "8c1c4746-8510-4498-8edf-f44f984c3a0a",
   "metadata": {
    "tags": []
   },
   "outputs": [],
   "source": [
    "test = RK4(test_derv)"
   ]
  },
  {
   "cell_type": "code",
   "execution_count": 155,
   "id": "f8956a90-d3b4-49fb-b994-aba078966d8f",
   "metadata": {
    "tags": []
   },
   "outputs": [],
   "source": [
    "out = test((2,4), (0,10))"
   ]
  },
  {
   "cell_type": "code",
   "execution_count": 49,
   "id": "9cffc1e5-1ed9-43c4-b698-e635e27d2d83",
   "metadata": {
    "tags": []
   },
   "outputs": [
    {
     "data": {
      "text/plain": [
       "array([0. , 0.4, 0.8, 1.2, 1.6, 2. , 2.4, 2.8, 3.2, 3.6, 4. , 4.4, 4.8,\n",
       "       5.2, 5.6, 6. , 6.4, 6.8, 7.2, 7.6, 8. , 8.4, 8.8, 9.2, 9.6])"
      ]
     },
     "execution_count": 49,
     "metadata": {},
     "output_type": "execute_result"
    }
   ],
   "source": [
    "np.arange(*(0,10), 0.4)"
   ]
  },
  {
   "cell_type": "code",
   "execution_count": null,
   "id": "1959b833-25f0-46d9-bd93-9f3e4bf24629",
   "metadata": {},
   "outputs": [],
   "source": []
  },
  {
   "cell_type": "code",
   "execution_count": null,
   "id": "457bda3c-b989-4dea-b19a-5479461e756f",
   "metadata": {},
   "outputs": [],
   "source": []
  }
 ],
 "metadata": {
  "kernelspec": {
   "display_name": "Python 3 (ipykernel)",
   "language": "python",
   "name": "python3"
  },
  "language_info": {
   "codemirror_mode": {
    "name": "ipython",
    "version": 3
   },
   "file_extension": ".py",
   "mimetype": "text/x-python",
   "name": "python",
   "nbconvert_exporter": "python",
   "pygments_lexer": "ipython3",
   "version": "3.10.6"
  }
 },
 "nbformat": 4,
 "nbformat_minor": 5
}
