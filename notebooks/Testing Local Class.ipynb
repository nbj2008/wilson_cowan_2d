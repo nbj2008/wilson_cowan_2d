{
 "cells": [
  {
   "cell_type": "code",
   "execution_count": 1,
   "id": "17a5fa16-dd98-4f40-ba79-9d2408eabb51",
   "metadata": {
    "tags": []
   },
   "outputs": [],
   "source": [
    "import numpy as np\n",
    "from matplotlib import pyplot as plt\n",
    "\n",
    "# Mine\n",
    "from wilson_cowan_2d.systems.concrete_solvers import UVRK4, WZRK4\n",
    "from wilson_cowan_2d.systems import concrete_wc_kernel as wck\n",
    "from wilson_cowan_2d.kernels import decreasing_exponential, Dist1DGrid\n",
    "from wilson_cowan_2d.kernels.kernels import make_K_2_populations\n",
    "\n",
    "%load_ext autoreload\n",
    "%autoreload 2"
   ]
  },
  {
   "cell_type": "code",
   "execution_count": 3,
   "id": "d64f65d6-7d6e-4a4a-a694-9711618808ef",
   "metadata": {
    "tags": []
   },
   "outputs": [],
   "source": [
    "param = wck.DefaultParams(τ = 0.001, η = 3.2, size = 2**9)\n",
    "# param.A = np.array([[500, 1.5],[0.25, 1.5]])\n",
    "param.F = lambda x: 1/(1 + np.exp(-50000 * x))\n",
    "σe = 3\n",
    "σi = 0.8 * σe\n",
    "\n",
    "u_str = 1\n",
    "v_str = 1\n",
    "e_kern = decreasing_exponential(Dist1DGrid(param.size).grid, σe)\n",
    "e_kern = e_kern/e_kern.sum(axis=1)\n",
    "i_kern = decreasing_exponential(Dist1DGrid(param.size).grid, σi)\n",
    "i_kern = i_kern/i_kern.sum(axis=1)\n",
    "\n",
    "u = 0.01*np.zeros(param.size).reshape((param.size,1))#*np.power(np.sin(np.arange(0, 512,1)/2**1),2 )\n",
    "u[0:2**1] = u_str\n",
    "v = 0.01*np.zeros(param.size).reshape((param.size, 1))\n",
    "# v[0:2**1] = v_str\n",
    "w = (e_kern @ u).reshape((param.size, 1))\n",
    "q = (i_kern @ v).reshape((param.size, 1))\n",
    "z = np.zeros_like(w) #np.gradient(w[:,0]).reshape((param.size, 1))\n",
    "p = np.zeros_like(q) #np.gradient(q[:,0]).reshape((param.size, 1))\n",
    "inp = (u, v, w, z, q, p)"
   ]
  },
  {
   "cell_type": "code",
   "execution_count": 4,
   "id": "70a4919a-90dc-4925-b692-d1e6fc8dbdc4",
   "metadata": {
    "tags": []
   },
   "outputs": [
    {
     "name": "stderr",
     "output_type": "stream",
     "text": [
      "/tmp/ipykernel_450062/2009196075.py:3: RuntimeWarning: overflow encountered in exp\n",
      "  param.F = lambda x: 1/(1 + np.exp(-50000 * x))\n"
     ]
    },
    {
     "name": "stdout",
     "output_type": "stream",
     "text": [
      "4 2477\n"
     ]
    }
   ],
   "source": [
    "class_test = wck.WCDecExpLocal1D(inp[0:4], param, np.array([σe, σi]))\n",
    "\n",
    "res = class_test((0, 10))"
   ]
  },
  {
   "cell_type": "code",
   "execution_count": 8,
   "id": "41a9d015-ddfe-4c7a-8456-33e648cecf1c",
   "metadata": {
    "tags": []
   },
   "outputs": [
    {
     "data": {
      "text/plain": [
       "<matplotlib.image.AxesImage at 0x7f98548d3a30>"
      ]
     },
     "execution_count": 8,
     "metadata": {},
     "output_type": "execute_result"
    },
    {
     "data": {
      "image/png": "[encoded data removed]",
      "text/plain": [
       "<Figure size 640x480 with 1 Axes>"
      ]
     },
     "metadata": {},
     "output_type": "display_data"
    }
   ],
   "source": [
    "plt.imshow(res.u[:,::10])"
   ]
  },
  {
   "cell_type": "code",
   "execution_count": null,
   "id": "bfff81ab-14c9-4c3b-a13f-6c391bea29fa",
   "metadata": {},
   "outputs": [],
   "source": []
  }
 ],
 "metadata": {
  "kernelspec": {
   "display_name": "Python 3 (ipykernel)",
   "language": "python",
   "name": "python3"
  },
  "language_info": {
   "codemirror_mode": {
    "name": "ipython",
    "version": 3
   },
   "file_extension": ".py",
   "mimetype": "text/x-python",
   "name": "python",
   "nbconvert_exporter": "python",
   "pygments_lexer": "ipython3",
   "version": "3.10.6"
  }
 },
 "nbformat": 4,
 "nbformat_minor": 5
}
