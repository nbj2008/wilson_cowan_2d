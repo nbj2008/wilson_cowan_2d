{
 "cells": [
  {
   "cell_type": "code",
   "execution_count": 1,
   "id": "f0447a56-da29-408c-a863-f3bdbe1066a0",
   "metadata": {
    "tags": []
   },
   "outputs": [],
   "source": [
    "import numpy as np\n",
    "from matplotlib import pyplot as plt\n",
    "import scipy.optimize as opt\n",
    "import scipy.signal as sig\n",
    "import scipy.integrate as sciint\n",
    "from functools import partial\n",
    "\n",
    "# Mine\n",
    "from wilson_cowan_2d.systems.concrete_solvers import UVRK4, WZRK4\n",
    "from wilson_cowan_2d.systems import concrete_wc_kernel as wck\n",
    "from wilson_cowan_2d.kernels import decreasing_exponential, Dist1DGrid\n",
    "from wilson_cowan_2d.kernels.kernels import make_K_2_populations\n",
    "\n",
    "%load_ext autoreload\n",
    "%autoreload 2"
   ]
  },
  {
   "cell_type": "code",
   "execution_count": 3,
   "id": "1bd190ac-a0c6-4c7f-a3bb-2cef70c99ba5",
   "metadata": {
    "tags": []
   },
   "outputs": [],
   "source": [
    "τe = 1\n",
    "τi = 0.6 * τe\n",
    "\n",
    "param = wck.DefaultParams(τ = np.array([τe, τi]), η = 0.1, size = 2**8)\n",
    "\n",
    "param.Θ = np.array([0.08, 0.4])\n",
    "\n",
    "u_str = 0.42\n",
    "v_str = 0.2\n",
    "\n",
    "u = u_str*np.ones(param.size).reshape((param.size,1))#*np.power(np.sin(np.arange(0, 512,1)/2**1),2 )\n",
    "v = v_str*np.ones(param.size).reshape((param.size, 1))"
   ]
  },
  {
   "cell_type": "code",
   "execution_count": null,
   "id": "62145cdd-51bf-4bc7-b14f-f31c2a7f4d99",
   "metadata": {},
   "outputs": [],
   "source": [
    "\"\"\"Check of the linear algebra solution\"\"\"\n",
    "u = \n",
    "v = \n",
    "σe, σi = 1, 2\n",
    "F = param.F\n",
    "A = param.A\n",
    "θ = param.θ\n",
    "τi, τe = self.τ\n",
    "η = self.η\n",
    "abss = np.abs(np.linspace(-12, 12, 100))\n",
    "DEe = decreasing_exponential(abss, σe)\n",
    "# DEe /= DEe.sum()\n",
    "DEi = decreasing_exponential(abss, σi)\n",
    "# DEi /= DEi.sum()\n",
    "Ke = np.convolve(DEe , u.ravel(),mode='same')[:].reshape(self.size, 1)  # self.kernel_grid[0]\n",
    "Ki = np.convolve(DEi, v.ravel(), mode='same')[:].reshape(self.size, 1)  # self.kernel_grid[1]\n",
    "# print(Ke.shape, Ki.shape, v.shape)\n",
    "\n",
    "du = 1/(η*τe)*(-u + F((A[0, 0] * Ke - A[0, 1] * Ki - θ[0])))\\\n",
    "    .reshape(u.shape)\n",
    "\n",
    "dv = 1/(η*τi)*(-v + F(A[1, 0] *  Ke - A[1, 1] * Ki - θ[1]))\\\n",
    "    .reshape(v.shape)\n",
    "\n",
    "\n"
   ]
  }
 ],
 "metadata": {
  "kernelspec": {
   "display_name": "Python 3 (ipykernel)",
   "language": "python",
   "name": "python3"
  },
  "language_info": {
   "codemirror_mode": {
    "name": "ipython",
    "version": 3
   },
   "file_extension": ".py",
   "mimetype": "text/x-python",
   "name": "python",
   "nbconvert_exporter": "python",
   "pygments_lexer": "ipython3",
   "version": "3.10.6"
  }
 },
 "nbformat": 4,
 "nbformat_minor": 5
}
